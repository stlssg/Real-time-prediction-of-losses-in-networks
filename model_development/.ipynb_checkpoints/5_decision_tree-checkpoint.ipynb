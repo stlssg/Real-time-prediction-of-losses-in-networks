{
 "cells": [
  {
   "cell_type": "markdown",
   "id": "intended-customer",
   "metadata": {},
   "source": [
    "## Decision tree"
   ]
  },
  {
   "cell_type": "code",
   "execution_count": 1,
   "id": "alternate-simon",
   "metadata": {},
   "outputs": [],
   "source": [
    "import copy\n",
    "import pandas as pd\n",
    "from matplotlib import pyplot as plt\n",
    "import numpy as np\n",
    "import warnings\n",
    "import glob\n",
    "import os\n",
    "from sklearn import preprocessing\n",
    "import seaborn as sns\n",
    "from sklearn.tree import DecisionTreeClassifier #for checking testing results\n",
    "from sklearn.metrics import classification_report, confusion_matrix #for visualizing tree \n",
    "from sklearn.tree import plot_tree\n",
    "\n",
    "warnings.filterwarnings('ignore')"
   ]
  },
  {
   "cell_type": "code",
   "execution_count": 184,
   "id": "continuous-kennedy",
   "metadata": {},
   "outputs": [],
   "source": [
    "# keep it for now and may refer to them later\n",
    "\n",
    "features_with_obvious_trend = [\n",
    "    'interarrival_std',\n",
    "    'interarrival_mean',\n",
    "    'interarrival_min',\n",
    "    'interarrival_max',\n",
    "    'interarrival_kurtosis',\n",
    "    'interarrival_skew',\n",
    "    'interarrival_moment3',\n",
    "    'interarrival_max_min_diff',\n",
    "    'interarrival_max_min_R',\n",
    "    'interarrival_min_max_R',\n",
    "    'interarrival_max_value_count_percent',\n",
    "    'len_udp_std',\n",
    "    'len_udp_moment4',\n",
    "    'len_udp_max_min_diff',\n",
    "    'len_udp_max_value_count_percent',\n",
    "    'interlength_udp_kurtosis',\n",
    "    'inter_time_sequence_std',\n",
    "    'inter_time_sequence_max_min_diff',\n",
    "    'inter_time_sequence_max_value_count_percent'\n",
    "]"
   ]
  },
  {
   "cell_type": "code",
   "execution_count": 3,
   "id": "pregnant-blast",
   "metadata": {},
   "outputs": [],
   "source": [
    "df_complete_with_features_final = pd.read_csv('models/df_final_label_feature.csv')"
   ]
  },
  {
   "cell_type": "code",
   "execution_count": 4,
   "id": "naked-auckland",
   "metadata": {},
   "outputs": [
    {
     "data": {
      "text/html": [
       "<div>\n",
       "<style scoped>\n",
       "    .dataframe tbody tr th:only-of-type {\n",
       "        vertical-align: middle;\n",
       "    }\n",
       "\n",
       "    .dataframe tbody tr th {\n",
       "        vertical-align: top;\n",
       "    }\n",
       "\n",
       "    .dataframe thead th {\n",
       "        text-align: right;\n",
       "    }\n",
       "</style>\n",
       "<table border=\"1\" class=\"dataframe\">\n",
       "  <thead>\n",
       "    <tr style=\"text-align: right;\">\n",
       "      <th></th>\n",
       "      <th>timestamp</th>\n",
       "      <th>lossOrNot</th>\n",
       "      <th>group_id</th>\n",
       "      <th>interarrival_std_minus_500ms</th>\n",
       "      <th>interarrival_std_minus_1000ms</th>\n",
       "      <th>interarrival_std_minus_1500ms</th>\n",
       "      <th>interarrival_std_minus_2000ms</th>\n",
       "      <th>interarrival_std_minus_2500ms</th>\n",
       "      <th>interarrival_std_minus_3000ms</th>\n",
       "      <th>interarrival_std_minus_3500ms</th>\n",
       "      <th>...</th>\n",
       "      <th>inter_time_sequence_std_minus_500ms</th>\n",
       "      <th>inter_time_sequence_std_minus_1000ms</th>\n",
       "      <th>inter_time_sequence_std_minus_1500ms</th>\n",
       "      <th>inter_time_sequence_std_minus_2000ms</th>\n",
       "      <th>inter_time_sequence_std_minus_2500ms</th>\n",
       "      <th>inter_time_sequence_std_minus_3000ms</th>\n",
       "      <th>inter_time_sequence_std_minus_3500ms</th>\n",
       "      <th>inter_time_sequence_std_minus_4000ms</th>\n",
       "      <th>inter_time_sequence_std_minus_4500ms</th>\n",
       "      <th>inter_time_sequence_std_minus_5000ms</th>\n",
       "    </tr>\n",
       "  </thead>\n",
       "  <tbody>\n",
       "    <tr>\n",
       "      <th>0</th>\n",
       "      <td>2020-12-14 13:34:44.500000</td>\n",
       "      <td>0.0</td>\n",
       "      <td>1</td>\n",
       "      <td>0.185914</td>\n",
       "      <td>0.111167</td>\n",
       "      <td>0.149341</td>\n",
       "      <td>0.168203</td>\n",
       "      <td>0.224819</td>\n",
       "      <td>0.287330</td>\n",
       "      <td>0.584144</td>\n",
       "      <td>...</td>\n",
       "      <td>0.362588</td>\n",
       "      <td>0.420006</td>\n",
       "      <td>0.202741</td>\n",
       "      <td>0.374366</td>\n",
       "      <td>0.419943</td>\n",
       "      <td>0.231871</td>\n",
       "      <td>0.164850</td>\n",
       "      <td>0.452376</td>\n",
       "      <td>0.182312</td>\n",
       "      <td>0.000000</td>\n",
       "    </tr>\n",
       "    <tr>\n",
       "      <th>1</th>\n",
       "      <td>2020-12-14 13:34:45</td>\n",
       "      <td>0.0</td>\n",
       "      <td>1</td>\n",
       "      <td>0.169699</td>\n",
       "      <td>0.185914</td>\n",
       "      <td>0.111167</td>\n",
       "      <td>0.149341</td>\n",
       "      <td>0.168203</td>\n",
       "      <td>0.224819</td>\n",
       "      <td>0.287330</td>\n",
       "      <td>...</td>\n",
       "      <td>0.204396</td>\n",
       "      <td>0.362588</td>\n",
       "      <td>0.420006</td>\n",
       "      <td>0.202741</td>\n",
       "      <td>0.374366</td>\n",
       "      <td>0.419943</td>\n",
       "      <td>0.231871</td>\n",
       "      <td>0.164850</td>\n",
       "      <td>0.452376</td>\n",
       "      <td>0.182312</td>\n",
       "    </tr>\n",
       "    <tr>\n",
       "      <th>2</th>\n",
       "      <td>2020-12-14 13:34:45.500000</td>\n",
       "      <td>0.0</td>\n",
       "      <td>1</td>\n",
       "      <td>0.122365</td>\n",
       "      <td>0.169699</td>\n",
       "      <td>0.185914</td>\n",
       "      <td>0.111167</td>\n",
       "      <td>0.149341</td>\n",
       "      <td>0.168203</td>\n",
       "      <td>0.224819</td>\n",
       "      <td>...</td>\n",
       "      <td>0.336296</td>\n",
       "      <td>0.204396</td>\n",
       "      <td>0.362588</td>\n",
       "      <td>0.420006</td>\n",
       "      <td>0.202741</td>\n",
       "      <td>0.374366</td>\n",
       "      <td>0.419943</td>\n",
       "      <td>0.231871</td>\n",
       "      <td>0.164850</td>\n",
       "      <td>0.452376</td>\n",
       "    </tr>\n",
       "    <tr>\n",
       "      <th>3</th>\n",
       "      <td>2020-12-14 13:34:46</td>\n",
       "      <td>0.0</td>\n",
       "      <td>1</td>\n",
       "      <td>0.081800</td>\n",
       "      <td>0.122365</td>\n",
       "      <td>0.169699</td>\n",
       "      <td>0.185914</td>\n",
       "      <td>0.111167</td>\n",
       "      <td>0.149341</td>\n",
       "      <td>0.168203</td>\n",
       "      <td>...</td>\n",
       "      <td>0.438010</td>\n",
       "      <td>0.336296</td>\n",
       "      <td>0.204396</td>\n",
       "      <td>0.362588</td>\n",
       "      <td>0.420006</td>\n",
       "      <td>0.202741</td>\n",
       "      <td>0.374366</td>\n",
       "      <td>0.419943</td>\n",
       "      <td>0.231871</td>\n",
       "      <td>0.164850</td>\n",
       "    </tr>\n",
       "    <tr>\n",
       "      <th>4</th>\n",
       "      <td>2020-12-14 13:34:46.500000</td>\n",
       "      <td>0.0</td>\n",
       "      <td>1</td>\n",
       "      <td>0.113890</td>\n",
       "      <td>0.081800</td>\n",
       "      <td>0.122365</td>\n",
       "      <td>0.169699</td>\n",
       "      <td>0.185914</td>\n",
       "      <td>0.111167</td>\n",
       "      <td>0.149341</td>\n",
       "      <td>...</td>\n",
       "      <td>0.210085</td>\n",
       "      <td>0.438010</td>\n",
       "      <td>0.336296</td>\n",
       "      <td>0.204396</td>\n",
       "      <td>0.362588</td>\n",
       "      <td>0.420006</td>\n",
       "      <td>0.202741</td>\n",
       "      <td>0.374366</td>\n",
       "      <td>0.419943</td>\n",
       "      <td>0.231871</td>\n",
       "    </tr>\n",
       "    <tr>\n",
       "      <th>...</th>\n",
       "      <td>...</td>\n",
       "      <td>...</td>\n",
       "      <td>...</td>\n",
       "      <td>...</td>\n",
       "      <td>...</td>\n",
       "      <td>...</td>\n",
       "      <td>...</td>\n",
       "      <td>...</td>\n",
       "      <td>...</td>\n",
       "      <td>...</td>\n",
       "      <td>...</td>\n",
       "      <td>...</td>\n",
       "      <td>...</td>\n",
       "      <td>...</td>\n",
       "      <td>...</td>\n",
       "      <td>...</td>\n",
       "      <td>...</td>\n",
       "      <td>...</td>\n",
       "      <td>...</td>\n",
       "      <td>...</td>\n",
       "      <td>...</td>\n",
       "    </tr>\n",
       "    <tr>\n",
       "      <th>2028655</th>\n",
       "      <td>2020-05-13 14:59:09.000</td>\n",
       "      <td>0.0</td>\n",
       "      <td>6998</td>\n",
       "      <td>0.083744</td>\n",
       "      <td>0.075046</td>\n",
       "      <td>0.078230</td>\n",
       "      <td>0.131936</td>\n",
       "      <td>0.078184</td>\n",
       "      <td>0.058745</td>\n",
       "      <td>0.069150</td>\n",
       "      <td>...</td>\n",
       "      <td>0.213018</td>\n",
       "      <td>1.000000</td>\n",
       "      <td>0.223662</td>\n",
       "      <td>0.202375</td>\n",
       "      <td>0.839116</td>\n",
       "      <td>0.213018</td>\n",
       "      <td>0.426054</td>\n",
       "      <td>0.213018</td>\n",
       "      <td>0.213018</td>\n",
       "      <td>0.934599</td>\n",
       "    </tr>\n",
       "    <tr>\n",
       "      <th>2028656</th>\n",
       "      <td>2020-05-13 14:59:09.500</td>\n",
       "      <td>0.0</td>\n",
       "      <td>6998</td>\n",
       "      <td>0.083497</td>\n",
       "      <td>0.083744</td>\n",
       "      <td>0.075046</td>\n",
       "      <td>0.078230</td>\n",
       "      <td>0.131936</td>\n",
       "      <td>0.078184</td>\n",
       "      <td>0.058745</td>\n",
       "      <td>...</td>\n",
       "      <td>0.213018</td>\n",
       "      <td>0.213018</td>\n",
       "      <td>1.000000</td>\n",
       "      <td>0.223662</td>\n",
       "      <td>0.202375</td>\n",
       "      <td>0.839116</td>\n",
       "      <td>0.213018</td>\n",
       "      <td>0.426054</td>\n",
       "      <td>0.213018</td>\n",
       "      <td>0.213018</td>\n",
       "    </tr>\n",
       "    <tr>\n",
       "      <th>2028657</th>\n",
       "      <td>2020-05-13 14:59:10.000</td>\n",
       "      <td>0.0</td>\n",
       "      <td>6998</td>\n",
       "      <td>0.048801</td>\n",
       "      <td>0.083497</td>\n",
       "      <td>0.083744</td>\n",
       "      <td>0.075046</td>\n",
       "      <td>0.078230</td>\n",
       "      <td>0.131936</td>\n",
       "      <td>0.078184</td>\n",
       "      <td>...</td>\n",
       "      <td>0.822931</td>\n",
       "      <td>0.213018</td>\n",
       "      <td>0.213018</td>\n",
       "      <td>1.000000</td>\n",
       "      <td>0.223662</td>\n",
       "      <td>0.202375</td>\n",
       "      <td>0.839116</td>\n",
       "      <td>0.213018</td>\n",
       "      <td>0.426054</td>\n",
       "      <td>0.213018</td>\n",
       "    </tr>\n",
       "    <tr>\n",
       "      <th>2028658</th>\n",
       "      <td>2020-05-13 14:59:10.500</td>\n",
       "      <td>0.0</td>\n",
       "      <td>6998</td>\n",
       "      <td>0.133611</td>\n",
       "      <td>0.048801</td>\n",
       "      <td>0.083497</td>\n",
       "      <td>0.083744</td>\n",
       "      <td>0.075046</td>\n",
       "      <td>0.078230</td>\n",
       "      <td>0.131936</td>\n",
       "      <td>...</td>\n",
       "      <td>0.223662</td>\n",
       "      <td>0.822931</td>\n",
       "      <td>0.213018</td>\n",
       "      <td>0.213018</td>\n",
       "      <td>1.000000</td>\n",
       "      <td>0.223662</td>\n",
       "      <td>0.202375</td>\n",
       "      <td>0.839116</td>\n",
       "      <td>0.213018</td>\n",
       "      <td>0.426054</td>\n",
       "    </tr>\n",
       "    <tr>\n",
       "      <th>2028659</th>\n",
       "      <td>2020-05-13 14:59:11.000</td>\n",
       "      <td>0.0</td>\n",
       "      <td>6998</td>\n",
       "      <td>0.098195</td>\n",
       "      <td>0.133611</td>\n",
       "      <td>0.048801</td>\n",
       "      <td>0.083497</td>\n",
       "      <td>0.083744</td>\n",
       "      <td>0.075046</td>\n",
       "      <td>0.078230</td>\n",
       "      <td>...</td>\n",
       "      <td>0.431101</td>\n",
       "      <td>0.223662</td>\n",
       "      <td>0.822931</td>\n",
       "      <td>0.213018</td>\n",
       "      <td>0.213018</td>\n",
       "      <td>1.000000</td>\n",
       "      <td>0.223662</td>\n",
       "      <td>0.202375</td>\n",
       "      <td>0.839116</td>\n",
       "      <td>0.213018</td>\n",
       "    </tr>\n",
       "  </tbody>\n",
       "</table>\n",
       "<p>2028660 rows × 113 columns</p>\n",
       "</div>"
      ],
      "text/plain": [
       "                          timestamp  lossOrNot  group_id  \\\n",
       "0        2020-12-14 13:34:44.500000        0.0         1   \n",
       "1               2020-12-14 13:34:45        0.0         1   \n",
       "2        2020-12-14 13:34:45.500000        0.0         1   \n",
       "3               2020-12-14 13:34:46        0.0         1   \n",
       "4        2020-12-14 13:34:46.500000        0.0         1   \n",
       "...                             ...        ...       ...   \n",
       "2028655     2020-05-13 14:59:09.000        0.0      6998   \n",
       "2028656     2020-05-13 14:59:09.500        0.0      6998   \n",
       "2028657     2020-05-13 14:59:10.000        0.0      6998   \n",
       "2028658     2020-05-13 14:59:10.500        0.0      6998   \n",
       "2028659     2020-05-13 14:59:11.000        0.0      6998   \n",
       "\n",
       "         interarrival_std_minus_500ms  interarrival_std_minus_1000ms  \\\n",
       "0                            0.185914                       0.111167   \n",
       "1                            0.169699                       0.185914   \n",
       "2                            0.122365                       0.169699   \n",
       "3                            0.081800                       0.122365   \n",
       "4                            0.113890                       0.081800   \n",
       "...                               ...                            ...   \n",
       "2028655                      0.083744                       0.075046   \n",
       "2028656                      0.083497                       0.083744   \n",
       "2028657                      0.048801                       0.083497   \n",
       "2028658                      0.133611                       0.048801   \n",
       "2028659                      0.098195                       0.133611   \n",
       "\n",
       "         interarrival_std_minus_1500ms  interarrival_std_minus_2000ms  \\\n",
       "0                             0.149341                       0.168203   \n",
       "1                             0.111167                       0.149341   \n",
       "2                             0.185914                       0.111167   \n",
       "3                             0.169699                       0.185914   \n",
       "4                             0.122365                       0.169699   \n",
       "...                                ...                            ...   \n",
       "2028655                       0.078230                       0.131936   \n",
       "2028656                       0.075046                       0.078230   \n",
       "2028657                       0.083744                       0.075046   \n",
       "2028658                       0.083497                       0.083744   \n",
       "2028659                       0.048801                       0.083497   \n",
       "\n",
       "         interarrival_std_minus_2500ms  interarrival_std_minus_3000ms  \\\n",
       "0                             0.224819                       0.287330   \n",
       "1                             0.168203                       0.224819   \n",
       "2                             0.149341                       0.168203   \n",
       "3                             0.111167                       0.149341   \n",
       "4                             0.185914                       0.111167   \n",
       "...                                ...                            ...   \n",
       "2028655                       0.078184                       0.058745   \n",
       "2028656                       0.131936                       0.078184   \n",
       "2028657                       0.078230                       0.131936   \n",
       "2028658                       0.075046                       0.078230   \n",
       "2028659                       0.083744                       0.075046   \n",
       "\n",
       "         interarrival_std_minus_3500ms  ...  \\\n",
       "0                             0.584144  ...   \n",
       "1                             0.287330  ...   \n",
       "2                             0.224819  ...   \n",
       "3                             0.168203  ...   \n",
       "4                             0.149341  ...   \n",
       "...                                ...  ...   \n",
       "2028655                       0.069150  ...   \n",
       "2028656                       0.058745  ...   \n",
       "2028657                       0.078184  ...   \n",
       "2028658                       0.131936  ...   \n",
       "2028659                       0.078230  ...   \n",
       "\n",
       "         inter_time_sequence_std_minus_500ms  \\\n",
       "0                                   0.362588   \n",
       "1                                   0.204396   \n",
       "2                                   0.336296   \n",
       "3                                   0.438010   \n",
       "4                                   0.210085   \n",
       "...                                      ...   \n",
       "2028655                             0.213018   \n",
       "2028656                             0.213018   \n",
       "2028657                             0.822931   \n",
       "2028658                             0.223662   \n",
       "2028659                             0.431101   \n",
       "\n",
       "         inter_time_sequence_std_minus_1000ms  \\\n",
       "0                                    0.420006   \n",
       "1                                    0.362588   \n",
       "2                                    0.204396   \n",
       "3                                    0.336296   \n",
       "4                                    0.438010   \n",
       "...                                       ...   \n",
       "2028655                              1.000000   \n",
       "2028656                              0.213018   \n",
       "2028657                              0.213018   \n",
       "2028658                              0.822931   \n",
       "2028659                              0.223662   \n",
       "\n",
       "         inter_time_sequence_std_minus_1500ms  \\\n",
       "0                                    0.202741   \n",
       "1                                    0.420006   \n",
       "2                                    0.362588   \n",
       "3                                    0.204396   \n",
       "4                                    0.336296   \n",
       "...                                       ...   \n",
       "2028655                              0.223662   \n",
       "2028656                              1.000000   \n",
       "2028657                              0.213018   \n",
       "2028658                              0.213018   \n",
       "2028659                              0.822931   \n",
       "\n",
       "         inter_time_sequence_std_minus_2000ms  \\\n",
       "0                                    0.374366   \n",
       "1                                    0.202741   \n",
       "2                                    0.420006   \n",
       "3                                    0.362588   \n",
       "4                                    0.204396   \n",
       "...                                       ...   \n",
       "2028655                              0.202375   \n",
       "2028656                              0.223662   \n",
       "2028657                              1.000000   \n",
       "2028658                              0.213018   \n",
       "2028659                              0.213018   \n",
       "\n",
       "         inter_time_sequence_std_minus_2500ms  \\\n",
       "0                                    0.419943   \n",
       "1                                    0.374366   \n",
       "2                                    0.202741   \n",
       "3                                    0.420006   \n",
       "4                                    0.362588   \n",
       "...                                       ...   \n",
       "2028655                              0.839116   \n",
       "2028656                              0.202375   \n",
       "2028657                              0.223662   \n",
       "2028658                              1.000000   \n",
       "2028659                              0.213018   \n",
       "\n",
       "         inter_time_sequence_std_minus_3000ms  \\\n",
       "0                                    0.231871   \n",
       "1                                    0.419943   \n",
       "2                                    0.374366   \n",
       "3                                    0.202741   \n",
       "4                                    0.420006   \n",
       "...                                       ...   \n",
       "2028655                              0.213018   \n",
       "2028656                              0.839116   \n",
       "2028657                              0.202375   \n",
       "2028658                              0.223662   \n",
       "2028659                              1.000000   \n",
       "\n",
       "         inter_time_sequence_std_minus_3500ms  \\\n",
       "0                                    0.164850   \n",
       "1                                    0.231871   \n",
       "2                                    0.419943   \n",
       "3                                    0.374366   \n",
       "4                                    0.202741   \n",
       "...                                       ...   \n",
       "2028655                              0.426054   \n",
       "2028656                              0.213018   \n",
       "2028657                              0.839116   \n",
       "2028658                              0.202375   \n",
       "2028659                              0.223662   \n",
       "\n",
       "         inter_time_sequence_std_minus_4000ms  \\\n",
       "0                                    0.452376   \n",
       "1                                    0.164850   \n",
       "2                                    0.231871   \n",
       "3                                    0.419943   \n",
       "4                                    0.374366   \n",
       "...                                       ...   \n",
       "2028655                              0.213018   \n",
       "2028656                              0.426054   \n",
       "2028657                              0.213018   \n",
       "2028658                              0.839116   \n",
       "2028659                              0.202375   \n",
       "\n",
       "         inter_time_sequence_std_minus_4500ms  \\\n",
       "0                                    0.182312   \n",
       "1                                    0.452376   \n",
       "2                                    0.164850   \n",
       "3                                    0.231871   \n",
       "4                                    0.419943   \n",
       "...                                       ...   \n",
       "2028655                              0.213018   \n",
       "2028656                              0.213018   \n",
       "2028657                              0.426054   \n",
       "2028658                              0.213018   \n",
       "2028659                              0.839116   \n",
       "\n",
       "         inter_time_sequence_std_minus_5000ms  \n",
       "0                                    0.000000  \n",
       "1                                    0.182312  \n",
       "2                                    0.452376  \n",
       "3                                    0.164850  \n",
       "4                                    0.231871  \n",
       "...                                       ...  \n",
       "2028655                              0.934599  \n",
       "2028656                              0.213018  \n",
       "2028657                              0.213018  \n",
       "2028658                              0.426054  \n",
       "2028659                              0.213018  \n",
       "\n",
       "[2028660 rows x 113 columns]"
      ]
     },
     "execution_count": 4,
     "metadata": {},
     "output_type": "execute_result"
    }
   ],
   "source": [
    "df_complete_with_features_final"
   ]
  },
  {
   "cell_type": "code",
   "execution_count": 5,
   "id": "injured-america",
   "metadata": {},
   "outputs": [],
   "source": [
    "df_loss = df_complete_with_features_final[df_complete_with_features_final['lossOrNot'] > 0]\n",
    "df_no_loss = df_complete_with_features_final[df_complete_with_features_final['lossOrNot'] < 1]"
   ]
  },
  {
   "cell_type": "code",
   "execution_count": 26,
   "id": "social-garden",
   "metadata": {},
   "outputs": [
    {
     "data": {
      "image/png": "[encoded data removed]",
      "text/plain": [
       "<Figure size 432x288 with 1 Axes>"
      ]
     },
     "metadata": {
      "needs_background": "light"
     },
     "output_type": "display_data"
    }
   ],
   "source": [
    "# better plot\n",
    "\n",
    "num_loss = df_loss.shape[0]\n",
    "num_no_loss = df_no_loss.shape[0]\n",
    "num_list = [num_loss, num_no_loss]\n",
    "\n",
    "plt.figure()\n",
    "bar1 = plt.bar(['Time bin with loss'], num_list[0], color ='b', width = 0.4)\n",
    "bar2 = plt.bar(['Time bin without loss'], num_list[1], color ='g', width = 0.4)\n",
    "height = bar1[0].get_height()\n",
    "plt.text(bar1[0].get_x() + bar1[0].get_width() / 2.0, height*5, num_list[0], ha='center', va='bottom')\n",
    "plt.text(bar1[0].get_x() + bar1[0].get_width() / 2.0, height, str(num_list[0]/sum(num_list)*100)[0:4]+'%', ha='center', va='bottom')\n",
    "height = bar2[0].get_height()\n",
    "plt.text(bar2[0].get_x() + bar2[0].get_width() / 2.0, height, num_list[1], ha='center', va='bottom')\n",
    "\n",
    "ax = plt.gca()\n",
    "ax.set_yticklabels([int(x) for x in ax.get_yticks()])\n",
    "plt.xlabel(\"Type of time bin\")\n",
    "plt.ylabel(\"Quantity[-]\")\n",
    "plt.title(f\"Number of time bin with/without loss ({sum(num_list)} in total)\")\n",
    "plt.show()"
   ]
  },
  {
   "cell_type": "code",
   "execution_count": 62,
   "id": "efficient-people",
   "metadata": {},
   "outputs": [
    {
     "data": {
      "text/plain": [
       "1.390425206786746"
      ]
     },
     "execution_count": 62,
     "metadata": {},
     "output_type": "execute_result"
    }
   ],
   "source": [
    "num_loss / (num_loss + num_no_loss) * 100"
   ]
  },
  {
   "cell_type": "code",
   "execution_count": 25,
   "id": "distributed-polymer",
   "metadata": {},
   "outputs": [
    {
     "data": {
      "image/png": "[encoded data removed]",
      "text/plain": [
       "<Figure size 1080x360 with 1 Axes>"
      ]
     },
     "metadata": {
      "needs_background": "light"
     },
     "output_type": "display_data"
    }
   ],
   "source": [
    "barWidth = 0.25\n",
    "\n",
    "num_loss_list = [int(num_loss*0.7), int(num_loss*0.7), int(num_loss*0.7), int(num_loss*0.7)]\n",
    "num_no_loss_list = [int(num_no_loss*0.7), int(num_loss*0.7), int(num_no_loss*0.7), int(num_loss*0.7*10)]\n",
    "\n",
    "br1 = [0, barWidth*3, barWidth*6, barWidth*9]\n",
    "br2 = [barWidth, barWidth*4, barWidth*7, barWidth*10]\n",
    "\n",
    "label = ['original', 'undersampling', 'oversampling', 'combination']\n",
    "\n",
    "plt.figure(figsize=(15,5))\n",
    "bar1 = plt.bar(br1, num_loss_list, color ='b', width = barWidth, edgecolor ='grey', label ='with loss')\n",
    "bar2 = plt.bar(br2, num_no_loss_list, color ='g', width = barWidth, edgecolor ='grey', label ='without loss')\n",
    "bar3 = plt.bar(1.5, int(num_no_loss*0.7)-int(num_loss*0.7), bottom=int(num_loss*0.7), width = barWidth, edgecolor ='grey', color ='pink', label='with loss(SMOTE)')\n",
    "bar4 = plt.bar(0.25*9, int(num_loss*0.7*10)-int(num_loss*0.7), bottom=int(num_loss*0.7), width = barWidth, edgecolor ='grey', color ='pink')\n",
    "bar5 = plt.bar(0.25*4, int(num_no_loss*0.7)-int(num_loss*0.7), bottom=int(num_loss*0.7), width = barWidth, edgecolor ='grey', color ='white', label='discarded')\n",
    "bar6 = plt.bar(0.25*10, int(num_no_loss*0.7)-int(num_loss*0.7*10), bottom=int(num_loss*0.7*10), width = barWidth, edgecolor ='grey', color ='white')\n",
    "i = 0\n",
    "for rect in bar1:\n",
    "    height = rect.get_height()\n",
    "    if i == 1:\n",
    "        plt.text(rect.get_x() + rect.get_width(), height, num_loss_list[i], ha='center', va='bottom')\n",
    "    else:\n",
    "        plt.text(rect.get_x() + rect.get_width() / 2.0, height, num_loss_list[i], ha='center', va='bottom')\n",
    "    i += 1\n",
    "i = 0\n",
    "for rect in bar2:\n",
    "    height = rect.get_height()\n",
    "    if i == 2:\n",
    "        plt.text(rect.get_x(), height, num_no_loss_list[i], ha='center', va='bottom')\n",
    "    elif i == 3:\n",
    "        plt.text(rect.get_x(), height, num_no_loss_list[i], ha='center', va='bottom')\n",
    "    elif i != 1:\n",
    "        plt.text(rect.get_x() + rect.get_width() / 2.0, height, num_no_loss_list[i], ha='center', va='bottom')\n",
    "    i += 1\n",
    "plt.text(bar3[0].get_x() + bar3[0].get_width() / 2.0, bar3[0].get_height()/2, num_no_loss_list[0]-num_loss_list[0], ha='center', va='bottom')\n",
    "plt.text(bar4[0].get_x() + bar4[0].get_width() / 2.0, bar4[0].get_height()/1.3, '*10', ha='center', va='bottom')\n",
    "plt.text(bar5[0].get_x() + bar5[0].get_width() / 2.0, bar5[0].get_height()/2, num_no_loss_list[0]-num_loss_list[0], ha='center', va='bottom')\n",
    "plt.text(bar6[0].get_x() + bar6[0].get_width() / 2.0, bar6[0].get_height()/1.7, num_no_loss_list[0]-num_loss_list[0]*10, ha='center', va='bottom')\n",
    "plt.xlabel(\"Type of dataset\")\n",
    "plt.ylabel(\"Quantity[-]\")\n",
    "plt.title(\"Training dataset (70% of each class): number of time bin with/without loss\")\n",
    "plt.xticks([barWidth/2, barWidth*3+barWidth/2, barWidth*6+barWidth/2, barWidth*9+barWidth/2], label)\n",
    "ax = plt.gca()\n",
    "ax.set_yticklabels([int(x) for x in ax.get_yticks()])\n",
    "plt.legend(loc=6)\n",
    "plt.show()"
   ]
  },
  {
   "cell_type": "code",
   "execution_count": 192,
   "id": "formal-person",
   "metadata": {},
   "outputs": [],
   "source": [
    "df_loss_shuffled = df_loss.sample(frac=1).reset_index()\n",
    "df_loss_shuffled.drop(['index'], axis=1, inplace=True)\n",
    "df_no_loss_shuffled = df_no_loss.sample(frac=1).reset_index()\n",
    "df_no_loss_shuffled.drop(['index'], axis=1, inplace=True)"
   ]
  },
  {
   "cell_type": "code",
   "execution_count": 320,
   "id": "opponent-candidate",
   "metadata": {},
   "outputs": [],
   "source": [
    "# normal case(original): use 70% of dataset for both loss and no loss\n",
    "\n",
    "df_train = pd.concat([df_loss_shuffled.iloc[0:int(df_loss_shuffled.shape[0] * 0.7)], df_no_loss_shuffled.iloc[0:int(df_no_loss_shuffled.shape[0] * 0.7)]])\n",
    "df_train_shuffled = df_train.sample(frac=1).reset_index()\n",
    "df_train_shuffled.drop(['index'], axis=1, inplace=True)\n",
    "df_test = pd.concat([df_loss_shuffled.iloc[int(df_loss_shuffled.shape[0] * 0.7)+1: -1], df_no_loss_shuffled.iloc[int(df_no_loss_shuffled.shape[0] * 0.7)+1: -1]])\n",
    "df_test_shuffled = df_test.sample(frac=1).reset_index()\n",
    "df_test_shuffled.drop(['index'], axis=1, inplace=True)"
   ]
  },
  {
   "cell_type": "code",
   "execution_count": 321,
   "id": "indonesian-gross",
   "metadata": {},
   "outputs": [],
   "source": [
    "x_train = df_train_shuffled[full_features_list]\n",
    "x_test = df_test_shuffled[full_features_list]\n",
    "y_train = df_train_shuffled[['lossOrNot']]\n",
    "y_train = y_train.astype(int)\n",
    "y_test = df_test_shuffled[['lossOrNot']]\n",
    "y_test = y_test.astype(int)"
   ]
  },
  {
   "cell_type": "code",
   "execution_count": 322,
   "id": "assisted-museum",
   "metadata": {},
   "outputs": [
    {
     "data": {
      "text/plain": [
       "DecisionTreeClassifier()"
      ]
     },
     "execution_count": 322,
     "metadata": {},
     "output_type": "execute_result"
    }
   ],
   "source": [
    "my_tree = DecisionTreeClassifier()\n",
    "my_tree.fit(x_train, y_train)"
   ]
  },
  {
   "cell_type": "code",
   "execution_count": 323,
   "id": "filled-starter",
   "metadata": {},
   "outputs": [
    {
     "name": "stdout",
     "output_type": "stream",
     "text": [
      "Prediction Report\n",
      "               precision    recall  f1-score   support\n",
      "\n",
      "           0       0.99      0.98      0.99    600134\n",
      "           1       0.10      0.13      0.11      8461\n",
      "\n",
      "    accuracy                           0.97    608595\n",
      "   macro avg       0.54      0.56      0.55    608595\n",
      "weighted avg       0.98      0.97      0.97    608595\n",
      "\n"
     ]
    }
   ],
   "source": [
    "y_pred = my_tree.predict(x_test)\n",
    "print(\"Prediction Report\\n\", classification_report(y_test, y_pred))"
   ]
  },
  {
   "cell_type": "code",
   "execution_count": 324,
   "id": "grand-voltage",
   "metadata": {},
   "outputs": [
    {
     "data": {
      "image/png": "[encoded data removed]",
      "text/plain": [
       "<Figure size 360x360 with 2 Axes>"
      ]
     },
     "metadata": {
      "needs_background": "light"
     },
     "output_type": "display_data"
    }
   ],
   "source": [
    "cm = confusion_matrix(y_test, y_pred)\n",
    "plt.figure(figsize=(5,5))\n",
    "sns.heatmap(data=cm, linewidths=.5, annot=True, square = True, cmap = 'Blues')\n",
    "plt.ylabel('Actual label')\n",
    "plt.xlabel('Predicted label')\n",
    "report = classification_report(y_test, y_pred, output_dict=True)\n",
    "plt.title(f\"f1-score: {format(report['macro avg']['f1-score'], '.4f')}\", size = 15)\n",
    "plt.tight_layout()\n",
    "plt.show()"
   ]
  },
  {
   "cell_type": "code",
   "execution_count": 306,
   "id": "prime-eclipse",
   "metadata": {},
   "outputs": [],
   "source": [
    "# under-sampling the no loss dataset\n",
    "# 0.7 from loss and the same number for no loss\n",
    "\n",
    "df_train_under_sampling = pd.concat([df_loss_shuffled.iloc[0:int(df_loss_shuffled.shape[0] * 0.7)], df_no_loss_shuffled.iloc[0:int(df_loss_shuffled.shape[0] * 0.7)]])\n",
    "df_train_shuffled = df_train_under_sampling.sample(frac=1).reset_index()\n",
    "df_train_shuffled.drop(['index'], axis=1, inplace=True)\n",
    "df_test_under_sampling = pd.concat([df_loss_shuffled.iloc[int(df_loss_shuffled.shape[0] * 0.7)+1: -1], df_no_loss_shuffled.iloc[int(df_loss_shuffled.shape[0] * 0.7)+1: -1]])\n",
    "df_test_shuffled = df_test_under_sampling.sample(frac=1).reset_index()\n",
    "df_test_shuffled.drop(['index'], axis=1, inplace=True)"
   ]
  },
  {
   "cell_type": "code",
   "execution_count": 307,
   "id": "answering-organization",
   "metadata": {},
   "outputs": [],
   "source": [
    "x_train = df_train_shuffled[full_features_list]\n",
    "x_test = df_test_shuffled[full_features_list]\n",
    "y_train = df_train_shuffled[['lossOrNot']]\n",
    "y_train = y_train.astype(int)\n",
    "y_test = df_test_shuffled[['lossOrNot']]\n",
    "y_test = y_test.astype(int)"
   ]
  },
  {
   "cell_type": "code",
   "execution_count": 308,
   "id": "driven-stress",
   "metadata": {},
   "outputs": [
    {
     "data": {
      "text/plain": [
       "DecisionTreeClassifier()"
      ]
     },
     "execution_count": 308,
     "metadata": {},
     "output_type": "execute_result"
    }
   ],
   "source": [
    "my_tree_under_sampling = DecisionTreeClassifier()\n",
    "my_tree_under_sampling.fit(x_train, y_train)"
   ]
  },
  {
   "cell_type": "code",
   "execution_count": 316,
   "id": "revised-collectible",
   "metadata": {},
   "outputs": [
    {
     "name": "stdout",
     "output_type": "stream",
     "text": [
      "Prediction Report\n",
      "               precision    recall  f1-score   support\n",
      "\n",
      "           0       1.00      0.68      0.81   1980707\n",
      "           1       0.01      0.68      0.02      8461\n",
      "\n",
      "    accuracy                           0.68   1989168\n",
      "   macro avg       0.50      0.68      0.41   1989168\n",
      "weighted avg       0.99      0.68      0.81   1989168\n",
      "\n"
     ]
    }
   ],
   "source": [
    "y_pred = my_tree_under_sampling.predict(x_test)\n",
    "print(\"Prediction Report\\n\", classification_report(y_test, y_pred))"
   ]
  },
  {
   "cell_type": "code",
   "execution_count": 319,
   "id": "opening-celebration",
   "metadata": {},
   "outputs": [
    {
     "data": {
      "image/png": "[encoded data removed]",
      "text/plain": [
       "<Figure size 360x360 with 2 Axes>"
      ]
     },
     "metadata": {
      "needs_background": "light"
     },
     "output_type": "display_data"
    }
   ],
   "source": [
    "cm = confusion_matrix(y_test, y_pred)\n",
    "plt.figure(figsize=(5,5))\n",
    "sns.heatmap(data=cm, linewidths=.5, annot=True, square = True, cmap = 'Blues')\n",
    "plt.ylabel('Actual label')\n",
    "plt.xlabel('Predicted label')\n",
    "report = classification_report(y_test, y_pred, output_dict=True)\n",
    "plt.title(f\"f1-score: {format(report['macro avg']['f1-score'], '.4f')}\", size = 15)\n",
    "plt.tight_layout()\n",
    "plt.show()"
   ]
  },
  {
   "cell_type": "code",
   "execution_count": 22,
   "id": "absolute-booking",
   "metadata": {},
   "outputs": [],
   "source": [
    "# oversampling with SMOTE\n",
    "\n",
    "from imblearn.over_sampling import SMOTE"
   ]
  },
  {
   "cell_type": "code",
   "execution_count": 326,
   "id": "extensive-architect",
   "metadata": {},
   "outputs": [],
   "source": [
    "df_train_shuffled = df_train.sample(frac=1).reset_index()\n",
    "df_train_shuffled.drop(['index'], axis=1, inplace=True)\n",
    "df_test_shuffled = df_test.sample(frac=1).reset_index()\n",
    "df_test_shuffled.drop(['index'], axis=1, inplace=True)"
   ]
  },
  {
   "cell_type": "code",
   "execution_count": 327,
   "id": "laden-spoke",
   "metadata": {},
   "outputs": [],
   "source": [
    "x_train = df_train_shuffled[full_features_list]\n",
    "x_test = df_test_shuffled[full_features_list]\n",
    "y_train = df_train_shuffled[['lossOrNot']]\n",
    "y_train = y_train.astype(int)\n",
    "y_test = df_test_shuffled[['lossOrNot']]\n",
    "y_test = y_test.astype(int)"
   ]
  },
  {
   "cell_type": "code",
   "execution_count": 328,
   "id": "expensive-knock",
   "metadata": {},
   "outputs": [],
   "source": [
    "smote = SMOTE()\n",
    "x_train_smote, y_train_smote = smote.fit_resample(x_train, y_train)"
   ]
  },
  {
   "cell_type": "code",
   "execution_count": 329,
   "id": "electrical-authority",
   "metadata": {},
   "outputs": [
    {
     "data": {
      "text/plain": [
       "DecisionTreeClassifier()"
      ]
     },
     "execution_count": 329,
     "metadata": {},
     "output_type": "execute_result"
    }
   ],
   "source": [
    "my_tree_over_sampling = DecisionTreeClassifier()\n",
    "my_tree_over_sampling.fit(x_train_smote, y_train_smote)"
   ]
  },
  {
   "cell_type": "code",
   "execution_count": 330,
   "id": "advised-scholar",
   "metadata": {},
   "outputs": [
    {
     "name": "stdout",
     "output_type": "stream",
     "text": [
      "Prediction Report\n",
      "               precision    recall  f1-score   support\n",
      "\n",
      "           0       0.99      0.94      0.96    600134\n",
      "           1       0.06      0.30      0.10      8461\n",
      "\n",
      "    accuracy                           0.93    608595\n",
      "   macro avg       0.53      0.62      0.53    608595\n",
      "weighted avg       0.98      0.93      0.95    608595\n",
      "\n"
     ]
    }
   ],
   "source": [
    "y_pred = my_tree_over_sampling.predict(x_test)\n",
    "print(\"Prediction Report\\n\", classification_report(y_test, y_pred))"
   ]
  },
  {
   "cell_type": "code",
   "execution_count": 331,
   "id": "neural-mixture",
   "metadata": {},
   "outputs": [
    {
     "data": {
      "image/png": "[encoded data removed]",
      "text/plain": [
       "<Figure size 360x360 with 2 Axes>"
      ]
     },
     "metadata": {
      "needs_background": "light"
     },
     "output_type": "display_data"
    }
   ],
   "source": [
    "cm = confusion_matrix(y_test, y_pred)\n",
    "plt.figure(figsize=(5,5))\n",
    "sns.heatmap(data=cm, linewidths=.5, annot=True, square = True, cmap = 'Blues')\n",
    "plt.ylabel('Actual label')\n",
    "plt.xlabel('Predicted label')\n",
    "report = classification_report(y_test, y_pred, output_dict=True)\n",
    "plt.title(f\"f1-score: {format(report['macro avg']['f1-score'], '.4f')}\", size = 15)\n",
    "plt.tight_layout()\n",
    "plt.show()"
   ]
  },
  {
   "cell_type": "code",
   "execution_count": 332,
   "id": "indian-junction",
   "metadata": {},
   "outputs": [],
   "source": [
    "# combination of undersampling and oversampling\n",
    "\n",
    "df_train = pd.concat([df_loss_shuffled.iloc[0:int(df_loss_shuffled.shape[0] * 0.7)], df_no_loss_shuffled.iloc[0:int(df_loss_shuffled.shape[0] * 0.7 * 10)]])\n",
    "df_train_shuffled = df_train.sample(frac=1).reset_index()\n",
    "df_train_shuffled.drop(['index'], axis=1, inplace=True)\n",
    "df_test = pd.concat([df_loss_shuffled.iloc[int(df_loss_shuffled.shape[0] * 0.7)+1: -1], df_no_loss_shuffled.iloc[int(df_loss_shuffled.shape[0] * 0.7 * 10)+1: -1]])\n",
    "df_test_shuffled = df_test.sample(frac=1).reset_index()\n",
    "df_test_shuffled.drop(['index'], axis=1, inplace=True)"
   ]
  },
  {
   "cell_type": "code",
   "execution_count": 335,
   "id": "looking-calculator",
   "metadata": {},
   "outputs": [],
   "source": [
    "x_train = df_train_shuffled[full_features_list]\n",
    "x_test = df_test_shuffled[full_features_list]\n",
    "y_train = df_train_shuffled[['lossOrNot']]\n",
    "y_train = y_train.astype(int)\n",
    "y_test = df_test_shuffled[['lossOrNot']]\n",
    "y_test = y_test.astype(int)"
   ]
  },
  {
   "cell_type": "code",
   "execution_count": 336,
   "id": "vocational-conflict",
   "metadata": {},
   "outputs": [],
   "source": [
    "smote = SMOTE()\n",
    "x_train_smote, y_train_smote = smote.fit_resample(x_train, y_train)"
   ]
  },
  {
   "cell_type": "code",
   "execution_count": 339,
   "id": "local-amazon",
   "metadata": {},
   "outputs": [
    {
     "data": {
      "text/plain": [
       "DecisionTreeClassifier()"
      ]
     },
     "execution_count": 339,
     "metadata": {},
     "output_type": "execute_result"
    }
   ],
   "source": [
    "my_tree_combination = DecisionTreeClassifier()\n",
    "my_tree_combination.fit(x_train_smote, y_train_smote)"
   ]
  },
  {
   "cell_type": "code",
   "execution_count": 340,
   "id": "overall-vision",
   "metadata": {},
   "outputs": [
    {
     "name": "stdout",
     "output_type": "stream",
     "text": [
      "Prediction Report\n",
      "               precision    recall  f1-score   support\n",
      "\n",
      "           0       1.00      0.84      0.91   1803003\n",
      "           1       0.01      0.47      0.03      8461\n",
      "\n",
      "    accuracy                           0.84   1811464\n",
      "   macro avg       0.51      0.66      0.47   1811464\n",
      "weighted avg       0.99      0.84      0.91   1811464\n",
      "\n"
     ]
    }
   ],
   "source": [
    "y_pred = my_tree_combination.predict(x_test)\n",
    "print(\"Prediction Report\\n\", classification_report(y_test, y_pred))"
   ]
  },
  {
   "cell_type": "code",
   "execution_count": 341,
   "id": "french-running",
   "metadata": {},
   "outputs": [
    {
     "data": {
      "image/png": "[encoded data removed]",
      "text/plain": [
       "<Figure size 360x360 with 2 Axes>"
      ]
     },
     "metadata": {
      "needs_background": "light"
     },
     "output_type": "display_data"
    }
   ],
   "source": [
    "cm = confusion_matrix(y_test, y_pred)\n",
    "plt.figure(figsize=(5,5))\n",
    "sns.heatmap(data=cm, linewidths=.5, annot=True, square = True, cmap = 'Blues')\n",
    "plt.ylabel('Actual label')\n",
    "plt.xlabel('Predicted label')\n",
    "report = classification_report(y_test, y_pred, output_dict=True)\n",
    "plt.title(f\"f1-score: {format(report['macro avg']['f1-score'], '.4f')}\", size = 15)\n",
    "plt.tight_layout()\n",
    "plt.show()"
   ]
  },
  {
   "cell_type": "code",
   "execution_count": null,
   "id": "israeli-candidate",
   "metadata": {},
   "outputs": [],
   "source": [
    "import pickle\n",
    "\n",
    "with open('models/decision_tree_original_dataset.pickle', 'wb') as f:\n",
    "    pickle.dump(my_tree, f)\n",
    "\n",
    "with open('models/decision_tree_under_sampling_dataset.pickle', 'wb') as f:\n",
    "    pickle.dump(my_tree_under_sampling, f)\n",
    "    \n",
    "with open('models/decision_tree_over_sampling_dataset.pickle', 'wb') as f:\n",
    "    pickle.dump(my_tree_over_sampling, f)\n",
    "    \n",
    "with open('models/decision_tree_combination_dataset.pickle', 'wb') as f:\n",
    "    pickle.dump(my_tree_combination, f)"
   ]
  },
  {
   "cell_type": "code",
   "execution_count": 3,
   "id": "informed-allah",
   "metadata": {},
   "outputs": [],
   "source": [
    "df_complete_with_features_final = pd.read_csv('models/df_final_label_feature.csv')\n",
    "\n",
    "with open('models/decision_tree_original_dataset.pickle', 'rb') as f:\n",
    "    my_tree_original = pickle.load(f)\n",
    "    \n",
    "with open('models/decision_tree_under_sampling_dataset.pickle', 'rb') as f:\n",
    "    my_tree_under_sampling = pickle.load(f)\n",
    "    \n",
    "with open('models/decision_tree_over_sampling_dataset.pickle', 'rb') as f:\n",
    "    my_tree_over_sampling = pickle.load(f)\n",
    "    \n",
    "with open('models/decision_tree_combination_dataset.pickle', 'rb') as f:\n",
    "    my_tree_combination = pickle.load(f)"
   ]
  },
  {
   "cell_type": "markdown",
   "id": "assured-conviction",
   "metadata": {},
   "source": [
    "#### Reproduce the decision tree for better plots"
   ]
  },
  {
   "cell_type": "code",
   "execution_count": 4,
   "id": "massive-secretary",
   "metadata": {},
   "outputs": [],
   "source": [
    "df_loss = df_complete_with_features_final[df_complete_with_features_final['lossOrNot'] > 0]\n",
    "df_no_loss = df_complete_with_features_final[df_complete_with_features_final['lossOrNot'] < 1]"
   ]
  },
  {
   "cell_type": "code",
   "execution_count": 5,
   "id": "northern-tiffany",
   "metadata": {},
   "outputs": [],
   "source": [
    "df_loss_shuffled = df_loss.sample(frac=1).reset_index()\n",
    "df_loss_shuffled.drop(['index'], axis=1, inplace=True)\n",
    "df_no_loss_shuffled = df_no_loss.sample(frac=1).reset_index()\n",
    "df_no_loss_shuffled.drop(['index'], axis=1, inplace=True)"
   ]
  },
  {
   "cell_type": "code",
   "execution_count": 6,
   "id": "developing-portugal",
   "metadata": {},
   "outputs": [],
   "source": [
    "# normal case(original): use 70% of dataset for both loss and no loss\n",
    "\n",
    "df_train = pd.concat([df_loss_shuffled.iloc[0:int(df_loss_shuffled.shape[0] * 0.7)], df_no_loss_shuffled.iloc[0:int(df_no_loss_shuffled.shape[0] * 0.7)]])\n",
    "df_train_shuffled = df_train.sample(frac=1).reset_index()\n",
    "df_train_shuffled.drop(['index'], axis=1, inplace=True)\n",
    "df_test = pd.concat([df_loss_shuffled.iloc[int(df_loss_shuffled.shape[0] * 0.7)+1: -1], df_no_loss_shuffled.iloc[int(df_no_loss_shuffled.shape[0] * 0.7)+1: -1]])\n",
    "df_test_shuffled = df_test.sample(frac=1).reset_index()\n",
    "df_test_shuffled.drop(['index'], axis=1, inplace=True)"
   ]
  },
  {
   "cell_type": "code",
   "execution_count": 9,
   "id": "impaired-thirty",
   "metadata": {},
   "outputs": [],
   "source": [
    "x_train = df_train_shuffled[full_features_list]\n",
    "x_test = df_test_shuffled[full_features_list]\n",
    "y_train = df_train_shuffled[['lossOrNot']]\n",
    "y_train = y_train.astype(int)\n",
    "y_test = df_test_shuffled[['lossOrNot']]\n",
    "y_test = y_test.astype(int)"
   ]
  },
  {
   "cell_type": "code",
   "execution_count": 12,
   "id": "reasonable-athletics",
   "metadata": {},
   "outputs": [
    {
     "data": {
      "text/plain": [
       "DecisionTreeClassifier()"
      ]
     },
     "execution_count": 12,
     "metadata": {},
     "output_type": "execute_result"
    }
   ],
   "source": [
    "my_tree = DecisionTreeClassifier()\n",
    "my_tree.fit(x_train, y_train)"
   ]
  },
  {
   "cell_type": "code",
   "execution_count": 13,
   "id": "aware-haiti",
   "metadata": {},
   "outputs": [
    {
     "name": "stdout",
     "output_type": "stream",
     "text": [
      "Prediction Report\n",
      "               precision    recall  f1-score   support\n",
      "\n",
      "           0       0.99      0.98      0.99    600134\n",
      "           1       0.11      0.14      0.12      8461\n",
      "\n",
      "    accuracy                           0.97    608595\n",
      "   macro avg       0.55      0.56      0.55    608595\n",
      "weighted avg       0.98      0.97      0.97    608595\n",
      "\n"
     ]
    }
   ],
   "source": [
    "y_pred = my_tree.predict(x_test)\n",
    "print(\"Prediction Report\\n\", classification_report(y_test, y_pred))"
   ]
  },
  {
   "cell_type": "code",
   "execution_count": 15,
   "id": "rotary-invitation",
   "metadata": {},
   "outputs": [
    {
     "data": {
      "image/png": "[encoded data removed]",
      "text/plain": [
       "<Figure size 360x360 with 2 Axes>"
      ]
     },
     "metadata": {
      "needs_background": "light"
     },
     "output_type": "display_data"
    }
   ],
   "source": [
    "cm = confusion_matrix(y_test, y_pred)\n",
    "plt.figure(figsize=(5,5))\n",
    "sns.heatmap(data=cm, linewidths=.5, annot=True, square = True, cmap = 'Blues', fmt='d')\n",
    "plt.ylabel('Actual label')\n",
    "plt.xlabel('Predicted label')\n",
    "report = classification_report(y_test, y_pred, output_dict=True)\n",
    "plt.title(f\"f1-score: {format(report['macro avg']['f1-score'], '.4f')}\", size = 15)\n",
    "plt.tight_layout()\n",
    "plt.show()"
   ]
  },
  {
   "cell_type": "code",
   "execution_count": 16,
   "id": "passing-bouquet",
   "metadata": {},
   "outputs": [],
   "source": [
    "# under-sampling the no loss dataset\n",
    "# 0.7 from loss and the same number for no loss\n",
    "\n",
    "df_train_under_sampling = pd.concat([df_loss_shuffled.iloc[0:int(df_loss_shuffled.shape[0] * 0.7)], df_no_loss_shuffled.iloc[0:int(df_loss_shuffled.shape[0] * 0.7)]])\n",
    "df_train_shuffled = df_train_under_sampling.sample(frac=1).reset_index()\n",
    "df_train_shuffled.drop(['index'], axis=1, inplace=True)\n",
    "df_test_under_sampling = pd.concat([df_loss_shuffled.iloc[int(df_loss_shuffled.shape[0] * 0.7)+1: -1], df_no_loss_shuffled.iloc[int(df_loss_shuffled.shape[0] * 0.7)+1: -1]])\n",
    "df_test_shuffled = df_test_under_sampling.sample(frac=1).reset_index()\n",
    "df_test_shuffled.drop(['index'], axis=1, inplace=True)"
   ]
  },
  {
   "cell_type": "code",
   "execution_count": 17,
   "id": "christian-uniform",
   "metadata": {},
   "outputs": [],
   "source": [
    "x_train = df_train_shuffled[full_features_list]\n",
    "x_test = df_test_shuffled[full_features_list]\n",
    "y_train = df_train_shuffled[['lossOrNot']]\n",
    "y_train = y_train.astype(int)\n",
    "y_test = df_test_shuffled[['lossOrNot']]\n",
    "y_test = y_test.astype(int)"
   ]
  },
  {
   "cell_type": "code",
   "execution_count": 18,
   "id": "racial-hazard",
   "metadata": {},
   "outputs": [
    {
     "data": {
      "text/plain": [
       "DecisionTreeClassifier()"
      ]
     },
     "execution_count": 18,
     "metadata": {},
     "output_type": "execute_result"
    }
   ],
   "source": [
    "my_tree_under_sampling = DecisionTreeClassifier()\n",
    "my_tree_under_sampling.fit(x_train, y_train)"
   ]
  },
  {
   "cell_type": "code",
   "execution_count": 19,
   "id": "emerging-foundation",
   "metadata": {},
   "outputs": [
    {
     "name": "stdout",
     "output_type": "stream",
     "text": [
      "Prediction Report\n",
      "               precision    recall  f1-score   support\n",
      "\n",
      "           0       1.00      0.68      0.81   1980707\n",
      "           1       0.01      0.67      0.02      8461\n",
      "\n",
      "    accuracy                           0.68   1989168\n",
      "   macro avg       0.50      0.68      0.41   1989168\n",
      "weighted avg       0.99      0.68      0.81   1989168\n",
      "\n"
     ]
    }
   ],
   "source": [
    "y_pred = my_tree_under_sampling.predict(x_test)\n",
    "print(\"Prediction Report\\n\", classification_report(y_test, y_pred))"
   ]
  },
  {
   "cell_type": "code",
   "execution_count": 21,
   "id": "attempted-enhancement",
   "metadata": {},
   "outputs": [
    {
     "data": {
      "image/png": "[encoded data removed]",
      "text/plain": [
       "<Figure size 360x360 with 2 Axes>"
      ]
     },
     "metadata": {
      "needs_background": "light"
     },
     "output_type": "display_data"
    }
   ],
   "source": [
    "cm = confusion_matrix(y_test, y_pred)\n",
    "plt.figure(figsize=(5,5))\n",
    "sns.heatmap(data=cm, linewidths=.5, annot=True, square = True, cmap = 'Blues', fmt='d')\n",
    "plt.ylabel('Actual label')\n",
    "plt.xlabel('Predicted label')\n",
    "report = classification_report(y_test, y_pred, output_dict=True)\n",
    "plt.title(f\"f1-score: {format(report['macro avg']['f1-score'], '.4f')}\", size = 15)\n",
    "plt.tight_layout()\n",
    "plt.show()"
   ]
  },
  {
   "cell_type": "code",
   "execution_count": 23,
   "id": "crazy-fundamentals",
   "metadata": {},
   "outputs": [],
   "source": [
    "# oversampling\n",
    "\n",
    "df_train_shuffled = df_train.sample(frac=1).reset_index()\n",
    "df_train_shuffled.drop(['index'], axis=1, inplace=True)\n",
    "df_test_shuffled = df_test.sample(frac=1).reset_index()\n",
    "df_test_shuffled.drop(['index'], axis=1, inplace=True)"
   ]
  },
  {
   "cell_type": "code",
   "execution_count": 24,
   "id": "modular-pressing",
   "metadata": {},
   "outputs": [],
   "source": [
    "x_train = df_train_shuffled[full_features_list]\n",
    "x_test = df_test_shuffled[full_features_list]\n",
    "y_train = df_train_shuffled[['lossOrNot']]\n",
    "y_train = y_train.astype(int)\n",
    "y_test = df_test_shuffled[['lossOrNot']]\n",
    "y_test = y_test.astype(int)"
   ]
  },
  {
   "cell_type": "code",
   "execution_count": 25,
   "id": "unknown-nancy",
   "metadata": {},
   "outputs": [],
   "source": [
    "smote = SMOTE()\n",
    "x_train_smote, y_train_smote = smote.fit_resample(x_train, y_train)"
   ]
  },
  {
   "cell_type": "code",
   "execution_count": 26,
   "id": "dirty-function",
   "metadata": {},
   "outputs": [
    {
     "data": {
      "text/plain": [
       "DecisionTreeClassifier()"
      ]
     },
     "execution_count": 26,
     "metadata": {},
     "output_type": "execute_result"
    }
   ],
   "source": [
    "my_tree_over_sampling = DecisionTreeClassifier()\n",
    "my_tree_over_sampling.fit(x_train_smote, y_train_smote)"
   ]
  },
  {
   "cell_type": "code",
   "execution_count": 27,
   "id": "possible-president",
   "metadata": {},
   "outputs": [
    {
     "name": "stdout",
     "output_type": "stream",
     "text": [
      "Prediction Report\n",
      "               precision    recall  f1-score   support\n",
      "\n",
      "           0       0.99      0.94      0.96    600134\n",
      "           1       0.06      0.29      0.10      8461\n",
      "\n",
      "    accuracy                           0.93    608595\n",
      "   macro avg       0.52      0.61      0.53    608595\n",
      "weighted avg       0.98      0.93      0.95    608595\n",
      "\n"
     ]
    }
   ],
   "source": [
    "y_pred = my_tree_over_sampling.predict(x_test)\n",
    "print(\"Prediction Report\\n\", classification_report(y_test, y_pred))"
   ]
  },
  {
   "cell_type": "code",
   "execution_count": 28,
   "id": "characteristic-alarm",
   "metadata": {},
   "outputs": [
    {
     "data": {
      "image/png": "[encoded data removed]",
      "text/plain": [
       "<Figure size 360x360 with 2 Axes>"
      ]
     },
     "metadata": {
      "needs_background": "light"
     },
     "output_type": "display_data"
    }
   ],
   "source": [
    "cm = confusion_matrix(y_test, y_pred)\n",
    "plt.figure(figsize=(5,5))\n",
    "sns.heatmap(data=cm, linewidths=.5, annot=True, square = True, cmap = 'Blues', fmt='d')\n",
    "plt.ylabel('Actual label')\n",
    "plt.xlabel('Predicted label')\n",
    "report = classification_report(y_test, y_pred, output_dict=True)\n",
    "plt.title(f\"f1-score: {format(report['macro avg']['f1-score'], '.4f')}\", size = 15)\n",
    "plt.tight_layout()\n",
    "plt.show()"
   ]
  },
  {
   "cell_type": "code",
   "execution_count": 29,
   "id": "boxed-county",
   "metadata": {},
   "outputs": [],
   "source": [
    "# combination of undersampling and oversampling\n",
    "\n",
    "df_train = pd.concat([df_loss_shuffled.iloc[0:int(df_loss_shuffled.shape[0] * 0.7)], df_no_loss_shuffled.iloc[0:int(df_loss_shuffled.shape[0] * 0.7 * 10)]])\n",
    "df_train_shuffled = df_train.sample(frac=1).reset_index()\n",
    "df_train_shuffled.drop(['index'], axis=1, inplace=True)\n",
    "df_test = pd.concat([df_loss_shuffled.iloc[int(df_loss_shuffled.shape[0] * 0.7)+1: -1], df_no_loss_shuffled.iloc[int(df_loss_shuffled.shape[0] * 0.7 * 10)+1: -1]])\n",
    "df_test_shuffled = df_test.sample(frac=1).reset_index()\n",
    "df_test_shuffled.drop(['index'], axis=1, inplace=True)"
   ]
  },
  {
   "cell_type": "code",
   "execution_count": 30,
   "id": "waiting-lighting",
   "metadata": {},
   "outputs": [],
   "source": [
    "x_train = df_train_shuffled[full_features_list]\n",
    "x_test = df_test_shuffled[full_features_list]\n",
    "y_train = df_train_shuffled[['lossOrNot']]\n",
    "y_train = y_train.astype(int)\n",
    "y_test = df_test_shuffled[['lossOrNot']]\n",
    "y_test = y_test.astype(int)"
   ]
  },
  {
   "cell_type": "code",
   "execution_count": 31,
   "id": "exotic-neighborhood",
   "metadata": {},
   "outputs": [],
   "source": [
    "smote = SMOTE()\n",
    "x_train_smote, y_train_smote = smote.fit_resample(x_train, y_train)"
   ]
  },
  {
   "cell_type": "code",
   "execution_count": 32,
   "id": "hearing-formula",
   "metadata": {},
   "outputs": [
    {
     "data": {
      "text/plain": [
       "DecisionTreeClassifier()"
      ]
     },
     "execution_count": 32,
     "metadata": {},
     "output_type": "execute_result"
    }
   ],
   "source": [
    "my_tree_combination = DecisionTreeClassifier()\n",
    "my_tree_combination.fit(x_train_smote, y_train_smote)"
   ]
  },
  {
   "cell_type": "code",
   "execution_count": 33,
   "id": "lucky-lodge",
   "metadata": {},
   "outputs": [
    {
     "name": "stdout",
     "output_type": "stream",
     "text": [
      "Prediction Report\n",
      "               precision    recall  f1-score   support\n",
      "\n",
      "           0       1.00      0.84      0.91   1803003\n",
      "           1       0.01      0.48      0.03      8461\n",
      "\n",
      "    accuracy                           0.84   1811464\n",
      "   macro avg       0.51      0.66      0.47   1811464\n",
      "weighted avg       0.99      0.84      0.91   1811464\n",
      "\n"
     ]
    }
   ],
   "source": [
    "y_pred = my_tree_combination.predict(x_test)\n",
    "print(\"Prediction Report\\n\", classification_report(y_test, y_pred))"
   ]
  },
  {
   "cell_type": "code",
   "execution_count": 34,
   "id": "portuguese-spring",
   "metadata": {},
   "outputs": [
    {
     "data": {
      "image/png": "[encoded data removed]",
      "text/plain": [
       "<Figure size 360x360 with 2 Axes>"
      ]
     },
     "metadata": {
      "needs_background": "light"
     },
     "output_type": "display_data"
    }
   ],
   "source": [
    "cm = confusion_matrix(y_test, y_pred)\n",
    "plt.figure(figsize=(5,5))\n",
    "sns.heatmap(data=cm, linewidths=.5, annot=True, square = True, cmap = 'Blues', fmt='d')\n",
    "plt.ylabel('Actual label')\n",
    "plt.xlabel('Predicted label')\n",
    "report = classification_report(y_test, y_pred, output_dict=True)\n",
    "plt.title(f\"f1-score: {format(report['macro avg']['f1-score'], '.4f')}\", size = 15)\n",
    "plt.tight_layout()\n",
    "plt.show()"
   ]
  }
 ],
 "metadata": {
  "kernelspec": {
   "display_name": "Python 3",
   "language": "python",
   "name": "python3"
  },
  "language_info": {
   "codemirror_mode": {
    "name": "ipython",
    "version": 3
   },
   "file_extension": ".py",
   "mimetype": "text/x-python",
   "name": "python",
   "nbconvert_exporter": "python",
   "pygments_lexer": "ipython3",
   "version": "3.9.1"
  }
 },
 "nbformat": 4,
 "nbformat_minor": 5
}
