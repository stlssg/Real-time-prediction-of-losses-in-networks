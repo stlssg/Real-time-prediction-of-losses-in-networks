{
 "cells": [
  {
   "cell_type": "markdown",
   "id": "common-nudist",
   "metadata": {},
   "source": [
    "## Isolation forest"
   ]
  },
  {
   "cell_type": "code",
   "execution_count": 1,
   "id": "essential-supervision",
   "metadata": {},
   "outputs": [],
   "source": [
    "import copy\n",
    "import pandas as pd\n",
    "from matplotlib import pyplot as plt\n",
    "import numpy as np\n",
    "import warnings\n",
    "import glob\n",
    "import os\n",
    "from sklearn import preprocessing\n",
    "import seaborn as sns\n",
    "from sklearn.metrics import classification_report, confusion_matrix \n",
    "from sklearn.ensemble import IsolationForest\n",
    "from sklearn.neighbors import LocalOutlierFactor\n",
    "from sklearn.svm import OneClassSVM\n",
    "\n",
    "warnings.filterwarnings('ignore')"
   ]
  },
  {
   "cell_type": "code",
   "execution_count": 2,
   "id": "anticipated-checkout",
   "metadata": {},
   "outputs": [],
   "source": [
    "complete_list = ['timestamp', 'lossOrNot']\n",
    "selected_features_list_removing_correlation = [\n",
    "    'interarrival_std',\n",
    "    'interarrival_min',\n",
    "    'interarrival_max',\n",
    "    'interarrival_skew',\n",
    "    'interarrival_moment4',\n",
    "    'interarrival_max_min_R',\n",
    "    'interarrival_max_value_count_percent',\n",
    "    'len_udp_moment4',\n",
    "    'len_udp_max_min_diff',\n",
    "    'len_udp_max_value_count_percent',\n",
    "    'inter_time_sequence_std'\n",
    "]\n",
    "complete_list.extend(selected_features_list_removing_correlation)\n",
    "\n",
    "full_features_list = []\n",
    "for feature in selected_features_list_removing_correlation:\n",
    "    for i in range(1,11):\n",
    "        col_title = f'{feature}_minus_{500*i}ms'\n",
    "        full_features_list.append(col_title)"
   ]
  },
  {
   "cell_type": "code",
   "execution_count": 3,
   "id": "extensive-greenhouse",
   "metadata": {},
   "outputs": [],
   "source": [
    "# load the entire dataset\n",
    "\n",
    "df_complete_with_features_final = pd.read_csv('models/df_final_label_feature.csv')"
   ]
  },
  {
   "cell_type": "code",
   "execution_count": 4,
   "id": "cosmetic-buffalo",
   "metadata": {},
   "outputs": [
    {
     "data": {
      "text/html": [
       "<div>\n",
       "<style scoped>\n",
       "    .dataframe tbody tr th:only-of-type {\n",
       "        vertical-align: middle;\n",
       "    }\n",
       "\n",
       "    .dataframe tbody tr th {\n",
       "        vertical-align: top;\n",
       "    }\n",
       "\n",
       "    .dataframe thead th {\n",
       "        text-align: right;\n",
       "    }\n",
       "</style>\n",
       "<table border=\"1\" class=\"dataframe\">\n",
       "  <thead>\n",
       "    <tr style=\"text-align: right;\">\n",
       "      <th></th>\n",
       "      <th>timestamp</th>\n",
       "      <th>lossOrNot</th>\n",
       "      <th>group_id</th>\n",
       "      <th>interarrival_std_minus_500ms</th>\n",
       "      <th>interarrival_std_minus_1000ms</th>\n",
       "      <th>interarrival_std_minus_1500ms</th>\n",
       "      <th>interarrival_std_minus_2000ms</th>\n",
       "      <th>interarrival_std_minus_2500ms</th>\n",
       "      <th>interarrival_std_minus_3000ms</th>\n",
       "      <th>interarrival_std_minus_3500ms</th>\n",
       "      <th>...</th>\n",
       "      <th>inter_time_sequence_std_minus_500ms</th>\n",
       "      <th>inter_time_sequence_std_minus_1000ms</th>\n",
       "      <th>inter_time_sequence_std_minus_1500ms</th>\n",
       "      <th>inter_time_sequence_std_minus_2000ms</th>\n",
       "      <th>inter_time_sequence_std_minus_2500ms</th>\n",
       "      <th>inter_time_sequence_std_minus_3000ms</th>\n",
       "      <th>inter_time_sequence_std_minus_3500ms</th>\n",
       "      <th>inter_time_sequence_std_minus_4000ms</th>\n",
       "      <th>inter_time_sequence_std_minus_4500ms</th>\n",
       "      <th>inter_time_sequence_std_minus_5000ms</th>\n",
       "    </tr>\n",
       "  </thead>\n",
       "  <tbody>\n",
       "    <tr>\n",
       "      <th>0</th>\n",
       "      <td>2020-12-14 13:34:44.500000</td>\n",
       "      <td>0.0</td>\n",
       "      <td>1</td>\n",
       "      <td>0.185914</td>\n",
       "      <td>0.111167</td>\n",
       "      <td>0.149341</td>\n",
       "      <td>0.168203</td>\n",
       "      <td>0.224819</td>\n",
       "      <td>0.287330</td>\n",
       "      <td>0.584144</td>\n",
       "      <td>...</td>\n",
       "      <td>0.362588</td>\n",
       "      <td>0.420006</td>\n",
       "      <td>0.202741</td>\n",
       "      <td>0.374366</td>\n",
       "      <td>0.419943</td>\n",
       "      <td>0.231871</td>\n",
       "      <td>0.164850</td>\n",
       "      <td>0.452376</td>\n",
       "      <td>0.182312</td>\n",
       "      <td>0.000000</td>\n",
       "    </tr>\n",
       "    <tr>\n",
       "      <th>1</th>\n",
       "      <td>2020-12-14 13:34:45</td>\n",
       "      <td>0.0</td>\n",
       "      <td>1</td>\n",
       "      <td>0.169699</td>\n",
       "      <td>0.185914</td>\n",
       "      <td>0.111167</td>\n",
       "      <td>0.149341</td>\n",
       "      <td>0.168203</td>\n",
       "      <td>0.224819</td>\n",
       "      <td>0.287330</td>\n",
       "      <td>...</td>\n",
       "      <td>0.204396</td>\n",
       "      <td>0.362588</td>\n",
       "      <td>0.420006</td>\n",
       "      <td>0.202741</td>\n",
       "      <td>0.374366</td>\n",
       "      <td>0.419943</td>\n",
       "      <td>0.231871</td>\n",
       "      <td>0.164850</td>\n",
       "      <td>0.452376</td>\n",
       "      <td>0.182312</td>\n",
       "    </tr>\n",
       "    <tr>\n",
       "      <th>2</th>\n",
       "      <td>2020-12-14 13:34:45.500000</td>\n",
       "      <td>0.0</td>\n",
       "      <td>1</td>\n",
       "      <td>0.122365</td>\n",
       "      <td>0.169699</td>\n",
       "      <td>0.185914</td>\n",
       "      <td>0.111167</td>\n",
       "      <td>0.149341</td>\n",
       "      <td>0.168203</td>\n",
       "      <td>0.224819</td>\n",
       "      <td>...</td>\n",
       "      <td>0.336296</td>\n",
       "      <td>0.204396</td>\n",
       "      <td>0.362588</td>\n",
       "      <td>0.420006</td>\n",
       "      <td>0.202741</td>\n",
       "      <td>0.374366</td>\n",
       "      <td>0.419943</td>\n",
       "      <td>0.231871</td>\n",
       "      <td>0.164850</td>\n",
       "      <td>0.452376</td>\n",
       "    </tr>\n",
       "    <tr>\n",
       "      <th>3</th>\n",
       "      <td>2020-12-14 13:34:46</td>\n",
       "      <td>0.0</td>\n",
       "      <td>1</td>\n",
       "      <td>0.081800</td>\n",
       "      <td>0.122365</td>\n",
       "      <td>0.169699</td>\n",
       "      <td>0.185914</td>\n",
       "      <td>0.111167</td>\n",
       "      <td>0.149341</td>\n",
       "      <td>0.168203</td>\n",
       "      <td>...</td>\n",
       "      <td>0.438010</td>\n",
       "      <td>0.336296</td>\n",
       "      <td>0.204396</td>\n",
       "      <td>0.362588</td>\n",
       "      <td>0.420006</td>\n",
       "      <td>0.202741</td>\n",
       "      <td>0.374366</td>\n",
       "      <td>0.419943</td>\n",
       "      <td>0.231871</td>\n",
       "      <td>0.164850</td>\n",
       "    </tr>\n",
       "    <tr>\n",
       "      <th>4</th>\n",
       "      <td>2020-12-14 13:34:46.500000</td>\n",
       "      <td>0.0</td>\n",
       "      <td>1</td>\n",
       "      <td>0.113890</td>\n",
       "      <td>0.081800</td>\n",
       "      <td>0.122365</td>\n",
       "      <td>0.169699</td>\n",
       "      <td>0.185914</td>\n",
       "      <td>0.111167</td>\n",
       "      <td>0.149341</td>\n",
       "      <td>...</td>\n",
       "      <td>0.210085</td>\n",
       "      <td>0.438010</td>\n",
       "      <td>0.336296</td>\n",
       "      <td>0.204396</td>\n",
       "      <td>0.362588</td>\n",
       "      <td>0.420006</td>\n",
       "      <td>0.202741</td>\n",
       "      <td>0.374366</td>\n",
       "      <td>0.419943</td>\n",
       "      <td>0.231871</td>\n",
       "    </tr>\n",
       "    <tr>\n",
       "      <th>...</th>\n",
       "      <td>...</td>\n",
       "      <td>...</td>\n",
       "      <td>...</td>\n",
       "      <td>...</td>\n",
       "      <td>...</td>\n",
       "      <td>...</td>\n",
       "      <td>...</td>\n",
       "      <td>...</td>\n",
       "      <td>...</td>\n",
       "      <td>...</td>\n",
       "      <td>...</td>\n",
       "      <td>...</td>\n",
       "      <td>...</td>\n",
       "      <td>...</td>\n",
       "      <td>...</td>\n",
       "      <td>...</td>\n",
       "      <td>...</td>\n",
       "      <td>...</td>\n",
       "      <td>...</td>\n",
       "      <td>...</td>\n",
       "      <td>...</td>\n",
       "    </tr>\n",
       "    <tr>\n",
       "      <th>2028655</th>\n",
       "      <td>2020-05-13 14:59:09.000</td>\n",
       "      <td>0.0</td>\n",
       "      <td>6998</td>\n",
       "      <td>0.083744</td>\n",
       "      <td>0.075046</td>\n",
       "      <td>0.078230</td>\n",
       "      <td>0.131936</td>\n",
       "      <td>0.078184</td>\n",
       "      <td>0.058745</td>\n",
       "      <td>0.069150</td>\n",
       "      <td>...</td>\n",
       "      <td>0.213018</td>\n",
       "      <td>1.000000</td>\n",
       "      <td>0.223662</td>\n",
       "      <td>0.202375</td>\n",
       "      <td>0.839116</td>\n",
       "      <td>0.213018</td>\n",
       "      <td>0.426054</td>\n",
       "      <td>0.213018</td>\n",
       "      <td>0.213018</td>\n",
       "      <td>0.934599</td>\n",
       "    </tr>\n",
       "    <tr>\n",
       "      <th>2028656</th>\n",
       "      <td>2020-05-13 14:59:09.500</td>\n",
       "      <td>0.0</td>\n",
       "      <td>6998</td>\n",
       "      <td>0.083497</td>\n",
       "      <td>0.083744</td>\n",
       "      <td>0.075046</td>\n",
       "      <td>0.078230</td>\n",
       "      <td>0.131936</td>\n",
       "      <td>0.078184</td>\n",
       "      <td>0.058745</td>\n",
       "      <td>...</td>\n",
       "      <td>0.213018</td>\n",
       "      <td>0.213018</td>\n",
       "      <td>1.000000</td>\n",
       "      <td>0.223662</td>\n",
       "      <td>0.202375</td>\n",
       "      <td>0.839116</td>\n",
       "      <td>0.213018</td>\n",
       "      <td>0.426054</td>\n",
       "      <td>0.213018</td>\n",
       "      <td>0.213018</td>\n",
       "    </tr>\n",
       "    <tr>\n",
       "      <th>2028657</th>\n",
       "      <td>2020-05-13 14:59:10.000</td>\n",
       "      <td>0.0</td>\n",
       "      <td>6998</td>\n",
       "      <td>0.048801</td>\n",
       "      <td>0.083497</td>\n",
       "      <td>0.083744</td>\n",
       "      <td>0.075046</td>\n",
       "      <td>0.078230</td>\n",
       "      <td>0.131936</td>\n",
       "      <td>0.078184</td>\n",
       "      <td>...</td>\n",
       "      <td>0.822931</td>\n",
       "      <td>0.213018</td>\n",
       "      <td>0.213018</td>\n",
       "      <td>1.000000</td>\n",
       "      <td>0.223662</td>\n",
       "      <td>0.202375</td>\n",
       "      <td>0.839116</td>\n",
       "      <td>0.213018</td>\n",
       "      <td>0.426054</td>\n",
       "      <td>0.213018</td>\n",
       "    </tr>\n",
       "    <tr>\n",
       "      <th>2028658</th>\n",
       "      <td>2020-05-13 14:59:10.500</td>\n",
       "      <td>0.0</td>\n",
       "      <td>6998</td>\n",
       "      <td>0.133611</td>\n",
       "      <td>0.048801</td>\n",
       "      <td>0.083497</td>\n",
       "      <td>0.083744</td>\n",
       "      <td>0.075046</td>\n",
       "      <td>0.078230</td>\n",
       "      <td>0.131936</td>\n",
       "      <td>...</td>\n",
       "      <td>0.223662</td>\n",
       "      <td>0.822931</td>\n",
       "      <td>0.213018</td>\n",
       "      <td>0.213018</td>\n",
       "      <td>1.000000</td>\n",
       "      <td>0.223662</td>\n",
       "      <td>0.202375</td>\n",
       "      <td>0.839116</td>\n",
       "      <td>0.213018</td>\n",
       "      <td>0.426054</td>\n",
       "    </tr>\n",
       "    <tr>\n",
       "      <th>2028659</th>\n",
       "      <td>2020-05-13 14:59:11.000</td>\n",
       "      <td>0.0</td>\n",
       "      <td>6998</td>\n",
       "      <td>0.098195</td>\n",
       "      <td>0.133611</td>\n",
       "      <td>0.048801</td>\n",
       "      <td>0.083497</td>\n",
       "      <td>0.083744</td>\n",
       "      <td>0.075046</td>\n",
       "      <td>0.078230</td>\n",
       "      <td>...</td>\n",
       "      <td>0.431101</td>\n",
       "      <td>0.223662</td>\n",
       "      <td>0.822931</td>\n",
       "      <td>0.213018</td>\n",
       "      <td>0.213018</td>\n",
       "      <td>1.000000</td>\n",
       "      <td>0.223662</td>\n",
       "      <td>0.202375</td>\n",
       "      <td>0.839116</td>\n",
       "      <td>0.213018</td>\n",
       "    </tr>\n",
       "  </tbody>\n",
       "</table>\n",
       "<p>2028660 rows × 113 columns</p>\n",
       "</div>"
      ],
      "text/plain": [
       "                          timestamp  lossOrNot  group_id  \\\n",
       "0        2020-12-14 13:34:44.500000        0.0         1   \n",
       "1               2020-12-14 13:34:45        0.0         1   \n",
       "2        2020-12-14 13:34:45.500000        0.0         1   \n",
       "3               2020-12-14 13:34:46        0.0         1   \n",
       "4        2020-12-14 13:34:46.500000        0.0         1   \n",
       "...                             ...        ...       ...   \n",
       "2028655     2020-05-13 14:59:09.000        0.0      6998   \n",
       "2028656     2020-05-13 14:59:09.500        0.0      6998   \n",
       "2028657     2020-05-13 14:59:10.000        0.0      6998   \n",
       "2028658     2020-05-13 14:59:10.500        0.0      6998   \n",
       "2028659     2020-05-13 14:59:11.000        0.0      6998   \n",
       "\n",
       "         interarrival_std_minus_500ms  interarrival_std_minus_1000ms  \\\n",
       "0                            0.185914                       0.111167   \n",
       "1                            0.169699                       0.185914   \n",
       "2                            0.122365                       0.169699   \n",
       "3                            0.081800                       0.122365   \n",
       "4                            0.113890                       0.081800   \n",
       "...                               ...                            ...   \n",
       "2028655                      0.083744                       0.075046   \n",
       "2028656                      0.083497                       0.083744   \n",
       "2028657                      0.048801                       0.083497   \n",
       "2028658                      0.133611                       0.048801   \n",
       "2028659                      0.098195                       0.133611   \n",
       "\n",
       "         interarrival_std_minus_1500ms  interarrival_std_minus_2000ms  \\\n",
       "0                             0.149341                       0.168203   \n",
       "1                             0.111167                       0.149341   \n",
       "2                             0.185914                       0.111167   \n",
       "3                             0.169699                       0.185914   \n",
       "4                             0.122365                       0.169699   \n",
       "...                                ...                            ...   \n",
       "2028655                       0.078230                       0.131936   \n",
       "2028656                       0.075046                       0.078230   \n",
       "2028657                       0.083744                       0.075046   \n",
       "2028658                       0.083497                       0.083744   \n",
       "2028659                       0.048801                       0.083497   \n",
       "\n",
       "         interarrival_std_minus_2500ms  interarrival_std_minus_3000ms  \\\n",
       "0                             0.224819                       0.287330   \n",
       "1                             0.168203                       0.224819   \n",
       "2                             0.149341                       0.168203   \n",
       "3                             0.111167                       0.149341   \n",
       "4                             0.185914                       0.111167   \n",
       "...                                ...                            ...   \n",
       "2028655                       0.078184                       0.058745   \n",
       "2028656                       0.131936                       0.078184   \n",
       "2028657                       0.078230                       0.131936   \n",
       "2028658                       0.075046                       0.078230   \n",
       "2028659                       0.083744                       0.075046   \n",
       "\n",
       "         interarrival_std_minus_3500ms  ...  \\\n",
       "0                             0.584144  ...   \n",
       "1                             0.287330  ...   \n",
       "2                             0.224819  ...   \n",
       "3                             0.168203  ...   \n",
       "4                             0.149341  ...   \n",
       "...                                ...  ...   \n",
       "2028655                       0.069150  ...   \n",
       "2028656                       0.058745  ...   \n",
       "2028657                       0.078184  ...   \n",
       "2028658                       0.131936  ...   \n",
       "2028659                       0.078230  ...   \n",
       "\n",
       "         inter_time_sequence_std_minus_500ms  \\\n",
       "0                                   0.362588   \n",
       "1                                   0.204396   \n",
       "2                                   0.336296   \n",
       "3                                   0.438010   \n",
       "4                                   0.210085   \n",
       "...                                      ...   \n",
       "2028655                             0.213018   \n",
       "2028656                             0.213018   \n",
       "2028657                             0.822931   \n",
       "2028658                             0.223662   \n",
       "2028659                             0.431101   \n",
       "\n",
       "         inter_time_sequence_std_minus_1000ms  \\\n",
       "0                                    0.420006   \n",
       "1                                    0.362588   \n",
       "2                                    0.204396   \n",
       "3                                    0.336296   \n",
       "4                                    0.438010   \n",
       "...                                       ...   \n",
       "2028655                              1.000000   \n",
       "2028656                              0.213018   \n",
       "2028657                              0.213018   \n",
       "2028658                              0.822931   \n",
       "2028659                              0.223662   \n",
       "\n",
       "         inter_time_sequence_std_minus_1500ms  \\\n",
       "0                                    0.202741   \n",
       "1                                    0.420006   \n",
       "2                                    0.362588   \n",
       "3                                    0.204396   \n",
       "4                                    0.336296   \n",
       "...                                       ...   \n",
       "2028655                              0.223662   \n",
       "2028656                              1.000000   \n",
       "2028657                              0.213018   \n",
       "2028658                              0.213018   \n",
       "2028659                              0.822931   \n",
       "\n",
       "         inter_time_sequence_std_minus_2000ms  \\\n",
       "0                                    0.374366   \n",
       "1                                    0.202741   \n",
       "2                                    0.420006   \n",
       "3                                    0.362588   \n",
       "4                                    0.204396   \n",
       "...                                       ...   \n",
       "2028655                              0.202375   \n",
       "2028656                              0.223662   \n",
       "2028657                              1.000000   \n",
       "2028658                              0.213018   \n",
       "2028659                              0.213018   \n",
       "\n",
       "         inter_time_sequence_std_minus_2500ms  \\\n",
       "0                                    0.419943   \n",
       "1                                    0.374366   \n",
       "2                                    0.202741   \n",
       "3                                    0.420006   \n",
       "4                                    0.362588   \n",
       "...                                       ...   \n",
       "2028655                              0.839116   \n",
       "2028656                              0.202375   \n",
       "2028657                              0.223662   \n",
       "2028658                              1.000000   \n",
       "2028659                              0.213018   \n",
       "\n",
       "         inter_time_sequence_std_minus_3000ms  \\\n",
       "0                                    0.231871   \n",
       "1                                    0.419943   \n",
       "2                                    0.374366   \n",
       "3                                    0.202741   \n",
       "4                                    0.420006   \n",
       "...                                       ...   \n",
       "2028655                              0.213018   \n",
       "2028656                              0.839116   \n",
       "2028657                              0.202375   \n",
       "2028658                              0.223662   \n",
       "2028659                              1.000000   \n",
       "\n",
       "         inter_time_sequence_std_minus_3500ms  \\\n",
       "0                                    0.164850   \n",
       "1                                    0.231871   \n",
       "2                                    0.419943   \n",
       "3                                    0.374366   \n",
       "4                                    0.202741   \n",
       "...                                       ...   \n",
       "2028655                              0.426054   \n",
       "2028656                              0.213018   \n",
       "2028657                              0.839116   \n",
       "2028658                              0.202375   \n",
       "2028659                              0.223662   \n",
       "\n",
       "         inter_time_sequence_std_minus_4000ms  \\\n",
       "0                                    0.452376   \n",
       "1                                    0.164850   \n",
       "2                                    0.231871   \n",
       "3                                    0.419943   \n",
       "4                                    0.374366   \n",
       "...                                       ...   \n",
       "2028655                              0.213018   \n",
       "2028656                              0.426054   \n",
       "2028657                              0.213018   \n",
       "2028658                              0.839116   \n",
       "2028659                              0.202375   \n",
       "\n",
       "         inter_time_sequence_std_minus_4500ms  \\\n",
       "0                                    0.182312   \n",
       "1                                    0.452376   \n",
       "2                                    0.164850   \n",
       "3                                    0.231871   \n",
       "4                                    0.419943   \n",
       "...                                       ...   \n",
       "2028655                              0.213018   \n",
       "2028656                              0.213018   \n",
       "2028657                              0.426054   \n",
       "2028658                              0.213018   \n",
       "2028659                              0.839116   \n",
       "\n",
       "         inter_time_sequence_std_minus_5000ms  \n",
       "0                                    0.000000  \n",
       "1                                    0.182312  \n",
       "2                                    0.452376  \n",
       "3                                    0.164850  \n",
       "4                                    0.231871  \n",
       "...                                       ...  \n",
       "2028655                              0.934599  \n",
       "2028656                              0.213018  \n",
       "2028657                              0.213018  \n",
       "2028658                              0.426054  \n",
       "2028659                              0.213018  \n",
       "\n",
       "[2028660 rows x 113 columns]"
      ]
     },
     "execution_count": 4,
     "metadata": {},
     "output_type": "execute_result"
    }
   ],
   "source": [
    "df_complete_with_features_final"
   ]
  },
  {
   "cell_type": "code",
   "execution_count": 5,
   "id": "adaptive-father",
   "metadata": {},
   "outputs": [],
   "source": [
    "df_loss = df_complete_with_features_final[df_complete_with_features_final['lossOrNot'] > 0]\n",
    "df_no_loss = df_complete_with_features_final[df_complete_with_features_final['lossOrNot'] < 1]\n",
    "\n",
    "df_loss_shuffled = df_loss.sample(frac=1).reset_index()\n",
    "df_loss_shuffled.drop(['index'], axis=1, inplace=True)\n",
    "df_no_loss_shuffled = df_no_loss.sample(frac=1).reset_index()\n",
    "df_no_loss_shuffled.drop(['index'], axis=1, inplace=True)"
   ]
  },
  {
   "cell_type": "code",
   "execution_count": 6,
   "id": "attempted-warrior",
   "metadata": {},
   "outputs": [],
   "source": [
    "df_train = pd.concat([df_loss_shuffled.iloc[0:int(df_loss_shuffled.shape[0] * 0.7)], df_no_loss_shuffled.iloc[0:int(df_no_loss_shuffled.shape[0] * 0.7)]])\n",
    "df_train_shuffled = df_train.sample(frac=1).reset_index()\n",
    "df_train_shuffled.drop(['index'], axis=1, inplace=True)\n",
    "df_test = pd.concat([df_loss_shuffled.iloc[int(df_loss_shuffled.shape[0] * 0.7)+1: -1], df_no_loss_shuffled.iloc[int(df_no_loss_shuffled.shape[0] * 0.7)+1: -1]])\n",
    "df_test_shuffled = df_test.sample(frac=1).reset_index()\n",
    "df_test_shuffled.drop(['index'], axis=1, inplace=True)"
   ]
  },
  {
   "cell_type": "code",
   "execution_count": 7,
   "id": "administrative-redhead",
   "metadata": {},
   "outputs": [],
   "source": [
    "x_train = df_train_shuffled[full_features_list]\n",
    "x_test = df_test_shuffled[full_features_list]\n",
    "y_train = df_train_shuffled[['lossOrNot']]\n",
    "y_train = y_train.astype(int)\n",
    "y_test = df_test_shuffled[['lossOrNot']]\n",
    "y_test = y_test.astype(int)"
   ]
  },
  {
   "cell_type": "code",
   "execution_count": 10,
   "id": "australian-international",
   "metadata": {},
   "outputs": [
    {
     "data": {
      "text/plain": [
       "0.013903628083582325"
      ]
     },
     "execution_count": 10,
     "metadata": {},
     "output_type": "execute_result"
    }
   ],
   "source": [
    "contamination = y_train[y_train['lossOrNot']==1]['lossOrNot'].count() / len(y_train)\n",
    "contamination"
   ]
  },
  {
   "cell_type": "code",
   "execution_count": 14,
   "id": "affiliated-conviction",
   "metadata": {},
   "outputs": [],
   "source": [
    "if_model = IsolationForest(n_estimators=100, max_samples=0.25, random_state=1, contamination=contamination, n_jobs=48) # or n_estimators=200, max_samples=1.0"
   ]
  },
  {
   "cell_type": "code",
   "execution_count": 15,
   "id": "ceramic-associate",
   "metadata": {},
   "outputs": [
    {
     "data": {
      "text/plain": [
       "IsolationForest(contamination=0.014099664575949588, max_samples=1.0,\n",
       "                n_estimators=200, n_jobs=48, random_state=1)"
      ]
     },
     "execution_count": 15,
     "metadata": {},
     "output_type": "execute_result"
    }
   ],
   "source": [
    "# training set\n",
    "\n",
    "if_model.fit(x_train)"
   ]
  },
  {
   "cell_type": "code",
   "execution_count": 16,
   "id": "contemporary-purchase",
   "metadata": {},
   "outputs": [],
   "source": [
    "y_pred_train = if_model.predict(x_train)"
   ]
  },
  {
   "cell_type": "code",
   "execution_count": 17,
   "id": "conditional-anger",
   "metadata": {},
   "outputs": [],
   "source": [
    "y_pred_train_label = [0 if x==1 else 1 for x in y_pred_train]"
   ]
  },
  {
   "cell_type": "code",
   "execution_count": 50,
   "id": "metallic-eugene",
   "metadata": {},
   "outputs": [
    {
     "name": "stdout",
     "output_type": "stream",
     "text": [
      "Prediction Report\n",
      "               precision    recall  f1-score   support\n",
      "\n",
      "           0       0.99      0.99      0.99   1400317\n",
      "           1       0.02      0.02      0.02     19744\n",
      "\n",
      "    accuracy                           0.97   1420061\n",
      "   macro avg       0.50      0.50      0.50   1420061\n",
      "weighted avg       0.97      0.97      0.97   1420061\n",
      "\n"
     ]
    },
    {
     "data": {
      "image/png": "[encoded data removed]",
      "text/plain": [
       "<Figure size 360x360 with 2 Axes>"
      ]
     },
     "metadata": {
      "needs_background": "light"
     },
     "output_type": "display_data"
    }
   ],
   "source": [
    "print(\"Prediction Report\\n\", classification_report(y_train, y_pred_train_label))\n",
    "cm = confusion_matrix(y_train, y_pred_train_label)\n",
    "plt.figure(figsize=(5,5))\n",
    "sns.heatmap(data=cm, linewidths=.5, annot=True, square = True, cmap = 'Blues', fmt='d')\n",
    "plt.ylabel('Actual label')\n",
    "plt.xlabel('Predicted label')\n",
    "plt.tight_layout()\n",
    "plt.show()"
   ]
  },
  {
   "cell_type": "code",
   "execution_count": 27,
   "id": "sudden-separation",
   "metadata": {},
   "outputs": [],
   "source": [
    "# y_pred_score_train = if_model.decision_function(x_train)"
   ]
  },
  {
   "cell_type": "code",
   "execution_count": 24,
   "id": "martial-occasions",
   "metadata": {},
   "outputs": [],
   "source": [
    "# test set\n",
    "\n",
    "y_pred_test = if_model.predict(x_test)"
   ]
  },
  {
   "cell_type": "code",
   "execution_count": 25,
   "id": "printable-sender",
   "metadata": {},
   "outputs": [],
   "source": [
    "y_pred_test_label = [0 if x==1 else 1 for x in y_pred_test]"
   ]
  },
  {
   "cell_type": "code",
   "execution_count": 26,
   "id": "desirable-infection",
   "metadata": {},
   "outputs": [
    {
     "name": "stdout",
     "output_type": "stream",
     "text": [
      "Prediction Report\n",
      "               precision    recall  f1-score   support\n",
      "\n",
      "           0       0.99      0.99      0.99    600134\n",
      "           1       0.01      0.01      0.01      8461\n",
      "\n",
      "    accuracy                           0.97    608595\n",
      "   macro avg       0.50      0.50      0.50    608595\n",
      "weighted avg       0.97      0.97      0.97    608595\n",
      "\n"
     ]
    },
    {
     "data": {
      "image/png": "[encoded data removed]",
      "text/plain": [
       "<Figure size 360x360 with 2 Axes>"
      ]
     },
     "metadata": {
      "needs_background": "light"
     },
     "output_type": "display_data"
    }
   ],
   "source": [
    "print(\"Prediction Report\\n\", classification_report(y_test, y_pred_test_label))\n",
    "cm = confusion_matrix(y_test, y_pred_test_label)\n",
    "plt.figure(figsize=(5,5))\n",
    "sns.heatmap(data=cm, linewidths=.5, annot=True, square = True, cmap = 'Blues', fmt='d')\n",
    "plt.ylabel('Actual label')\n",
    "plt.xlabel('Predicted label')\n",
    "plt.tight_layout()\n",
    "plt.show()"
   ]
  },
  {
   "cell_type": "code",
   "execution_count": 53,
   "id": "recreational-explorer",
   "metadata": {},
   "outputs": [
    {
     "name": "stdout",
     "output_type": "stream",
     "text": [
      "Prediction Report with features of past 500ms\n",
      "               precision    recall  f1-score   support\n",
      "\n",
      "           0       0.99      0.99      0.99   1400317\n",
      "           1       0.02      0.02      0.02     19744\n",
      "\n",
      "    accuracy                           0.97   1420061\n",
      "   macro avg       0.50      0.50      0.50   1420061\n",
      "weighted avg       0.97      0.97      0.97   1420061\n",
      "\n"
     ]
    },
    {
     "data": {
      "image/png": "[encoded data removed]",
      "text/plain": [
       "<Figure size 360x360 with 2 Axes>"
      ]
     },
     "metadata": {
      "needs_background": "light"
     },
     "output_type": "display_data"
    },
    {
     "name": "stdout",
     "output_type": "stream",
     "text": [
      "Prediction Report with features of past 1000ms\n",
      "               precision    recall  f1-score   support\n",
      "\n",
      "           0       0.99      0.99      0.99   1400317\n",
      "           1       0.02      0.02      0.02     19744\n",
      "\n",
      "    accuracy                           0.97   1420061\n",
      "   macro avg       0.50      0.50      0.50   1420061\n",
      "weighted avg       0.97      0.97      0.97   1420061\n",
      "\n"
     ]
    },
    {
     "data": {
      "image/png": "[encoded data removed]",
      "text/plain": [
       "<Figure size 360x360 with 2 Axes>"
      ]
     },
     "metadata": {
      "needs_background": "light"
     },
     "output_type": "display_data"
    },
    {
     "name": "stdout",
     "output_type": "stream",
     "text": [
      "Prediction Report with features of past 1500ms\n",
      "               precision    recall  f1-score   support\n",
      "\n",
      "           0       0.99      0.99      0.99   1400317\n",
      "           1       0.02      0.02      0.02     19744\n",
      "\n",
      "    accuracy                           0.97   1420061\n",
      "   macro avg       0.50      0.50      0.50   1420061\n",
      "weighted avg       0.97      0.97      0.97   1420061\n",
      "\n"
     ]
    },
    {
     "data": {
      "image/png": "[encoded data removed]",
      "text/plain": [
       "<Figure size 360x360 with 2 Axes>"
      ]
     },
     "metadata": {
      "needs_background": "light"
     },
     "output_type": "display_data"
    },
    {
     "name": "stdout",
     "output_type": "stream",
     "text": [
      "Prediction Report with features of past 2000ms\n",
      "               precision    recall  f1-score   support\n",
      "\n",
      "           0       0.99      0.99      0.99   1400317\n",
      "           1       0.02      0.02      0.02     19744\n",
      "\n",
      "    accuracy                           0.97   1420061\n",
      "   macro avg       0.50      0.50      0.50   1420061\n",
      "weighted avg       0.97      0.97      0.97   1420061\n",
      "\n"
     ]
    },
    {
     "data": {
      "image/png": "[encoded data removed]",
      "text/plain": [
       "<Figure size 360x360 with 2 Axes>"
      ]
     },
     "metadata": {
      "needs_background": "light"
     },
     "output_type": "display_data"
    },
    {
     "name": "stdout",
     "output_type": "stream",
     "text": [
      "Prediction Report with features of past 2500ms\n",
      "               precision    recall  f1-score   support\n",
      "\n",
      "           0       0.99      0.99      0.99   1400317\n",
      "           1       0.02      0.02      0.02     19744\n",
      "\n",
      "    accuracy                           0.97   1420061\n",
      "   macro avg       0.50      0.50      0.50   1420061\n",
      "weighted avg       0.97      0.97      0.97   1420061\n",
      "\n"
     ]
    },
    {
     "data": {
      "image/png": "[encoded data removed]",
      "text/plain": [
       "<Figure size 360x360 with 2 Axes>"
      ]
     },
     "metadata": {
      "needs_background": "light"
     },
     "output_type": "display_data"
    },
    {
     "name": "stdout",
     "output_type": "stream",
     "text": [
      "Prediction Report with features of past 3000ms\n",
      "               precision    recall  f1-score   support\n",
      "\n",
      "           0       0.99      0.99      0.99   1400317\n",
      "           1       0.02      0.02      0.02     19744\n",
      "\n",
      "    accuracy                           0.97   1420061\n",
      "   macro avg       0.50      0.50      0.50   1420061\n",
      "weighted avg       0.97      0.97      0.97   1420061\n",
      "\n"
     ]
    },
    {
     "data": {
      "image/png": "[encoded data removed]",
      "text/plain": [
       "<Figure size 360x360 with 2 Axes>"
      ]
     },
     "metadata": {
      "needs_background": "light"
     },
     "output_type": "display_data"
    },
    {
     "name": "stdout",
     "output_type": "stream",
     "text": [
      "Prediction Report with features of past 3500ms\n",
      "               precision    recall  f1-score   support\n",
      "\n",
      "           0       0.99      0.99      0.99   1400317\n",
      "           1       0.02      0.02      0.02     19744\n",
      "\n",
      "    accuracy                           0.97   1420061\n",
      "   macro avg       0.50      0.50      0.50   1420061\n",
      "weighted avg       0.97      0.97      0.97   1420061\n",
      "\n"
     ]
    },
    {
     "data": {
      "image/png": "[encoded data removed]",
      "text/plain": [
       "<Figure size 360x360 with 2 Axes>"
      ]
     },
     "metadata": {
      "needs_background": "light"
     },
     "output_type": "display_data"
    },
    {
     "name": "stdout",
     "output_type": "stream",
     "text": [
      "Prediction Report with features of past 4000ms\n",
      "               precision    recall  f1-score   support\n",
      "\n",
      "           0       0.99      0.99      0.99   1400317\n",
      "           1       0.02      0.02      0.02     19744\n",
      "\n",
      "    accuracy                           0.97   1420061\n",
      "   macro avg       0.50      0.50      0.50   1420061\n",
      "weighted avg       0.97      0.97      0.97   1420061\n",
      "\n"
     ]
    },
    {
     "data": {
      "image/png": "[encoded data removed]",
      "text/plain": [
       "<Figure size 360x360 with 2 Axes>"
      ]
     },
     "metadata": {
      "needs_background": "light"
     },
     "output_type": "display_data"
    },
    {
     "name": "stdout",
     "output_type": "stream",
     "text": [
      "Prediction Report with features of past 4500ms\n",
      "               precision    recall  f1-score   support\n",
      "\n",
      "           0       0.99      0.99      0.99   1400317\n",
      "           1       0.02      0.02      0.02     19744\n",
      "\n",
      "    accuracy                           0.97   1420061\n",
      "   macro avg       0.50      0.50      0.50   1420061\n",
      "weighted avg       0.97      0.97      0.97   1420061\n",
      "\n"
     ]
    },
    {
     "data": {
      "image/png": "[encoded data removed]",
      "text/plain": [
       "<Figure size 360x360 with 2 Axes>"
      ]
     },
     "metadata": {
      "needs_background": "light"
     },
     "output_type": "display_data"
    },
    {
     "name": "stdout",
     "output_type": "stream",
     "text": [
      "Prediction Report with features of past 5000ms\n",
      "               precision    recall  f1-score   support\n",
      "\n",
      "           0       0.99      0.99      0.99   1400317\n",
      "           1       0.02      0.02      0.02     19744\n",
      "\n",
      "    accuracy                           0.97   1420061\n",
      "   macro avg       0.50      0.50      0.50   1420061\n",
      "weighted avg       0.97      0.97      0.97   1420061\n",
      "\n"
     ]
    },
    {
     "data": {
      "image/png": "[encoded data removed]",
      "text/plain": [
       "<Figure size 360x360 with 2 Axes>"
      ]
     },
     "metadata": {
      "needs_background": "light"
     },
     "output_type": "display_data"
    }
   ],
   "source": [
    "# select value starting from past 5 sec (10 samples) to 0.5 sec (1 sample)\n",
    "\n",
    "acc = []\n",
    "precision = []                                         \n",
    "recall = []\n",
    "f1 = []\n",
    "label = [f'-{500*x}ms' for x in range(10, 0, -1)]\n",
    "\n",
    "for num_feature in range(2,12):\n",
    "    \n",
    "    # build features\n",
    "    shrink_feature_list = []\n",
    "    for feature in selected_features_list_removing_correlation:\n",
    "        for i in range(1, num_feature):\n",
    "            col_title = f'{feature}_minus_{500*i}ms'\n",
    "            shrink_feature_list.append(col_title)\n",
    "            \n",
    "    # build training and testing dataset\n",
    "    x_train_new = df_train_shuffled[shrink_feature_list]\n",
    "#     x_test_new = df_test_shuffled[shrink_feature_list]\n",
    "    y_train_new = df_train_shuffled[['lossOrNot']]\n",
    "    y_train_new = y_train_new.astype(int)\n",
    "#     y_test_new = df_test_shuffled[['lossOrNot']]\n",
    "#     y_test_new = y_test_new.astype(int)\n",
    "    \n",
    "    if_model_new = IsolationForest(n_estimators=100, max_samples=0.25, random_state=1, contamination=contamination, n_jobs=48)\n",
    "    if_model_new.fit(x_train_new)\n",
    "    \n",
    "    # output result\n",
    "    y_pred_train = if_model_new.predict(x_train_new)\n",
    "    y_pred_train_label = [0 if x==1 else 1 for x in y_pred_train]\n",
    "    print(f\"Prediction Report with features of past {(num_feature-1)*500}ms\\n\", classification_report(y_train_new, y_pred_train_label))\n",
    "    cm = confusion_matrix(y_train_new, y_pred_train_label)\n",
    "    plt.figure(figsize=(5,5))\n",
    "    sns.heatmap(data=cm, linewidths=.5, annot=True, square = True, cmap = 'Blues', fmt='d')\n",
    "    plt.ylabel('Actual label')\n",
    "    plt.xlabel('Predicted label')\n",
    "    plt.tight_layout()\n",
    "    plt.show()\n",
    "    \n",
    "    # store the result, note that the order of values here is opposite with the label, need to reverse later\n",
    "    report = classification_report(y_train_new, y_pred_train_label, output_dict=True)\n",
    "    acc.append(report['accuracy'])\n",
    "    precision.append(report['macro avg']['precision'])                                  \n",
    "    recall.append(report['macro avg']['recall'])\n",
    "    f1.append(report['macro avg']['f1-score'])"
   ]
  },
  {
   "cell_type": "markdown",
   "id": "every-wheat",
   "metadata": {},
   "source": [
    "## Local outlier factor"
   ]
  },
  {
   "cell_type": "code",
   "execution_count": 14,
   "id": "cellular-constraint",
   "metadata": {},
   "outputs": [],
   "source": [
    "# df_train = pd.concat([df_loss_shuffled.iloc[0:int(df_loss_shuffled.shape[0] * 0.05)], df_no_loss_shuffled.iloc[0:int(df_no_loss_shuffled.shape[0] * 0.05)]])\n",
    "# df_train_shuffled = df_train.sample(frac=1).reset_index()\n",
    "# df_train_shuffled.drop(['index'], axis=1, inplace=True)\n",
    "# df_test = pd.concat([df_loss_shuffled.iloc[int(df_loss_shuffled.shape[0] * 0.05)+1: -1], df_no_loss_shuffled.iloc[int(df_no_loss_shuffled.shape[0] * 0.05)+1: -1]])\n",
    "# df_test_shuffled = df_test.sample(frac=1).reset_index()\n",
    "# df_test_shuffled.drop(['index'], axis=1, inplace=True)"
   ]
  },
  {
   "cell_type": "code",
   "execution_count": 15,
   "id": "divine-grave",
   "metadata": {},
   "outputs": [],
   "source": [
    "# x_train = df_train_shuffled[full_features_list]\n",
    "# x_test = df_test_shuffled[full_features_list]\n",
    "# y_train = df_train_shuffled[['lossOrNot']]\n",
    "# y_train = y_train.astype(int)\n",
    "# y_test = df_test_shuffled[['lossOrNot']]\n",
    "# y_test = y_test.astype(int)"
   ]
  },
  {
   "cell_type": "code",
   "execution_count": 17,
   "id": "proved-faculty",
   "metadata": {},
   "outputs": [],
   "source": [
    "# lof_model = LocalOutlierFactor(n_neighbors=20, contamination=contamination, n_jobs=48)"
   ]
  },
  {
   "cell_type": "code",
   "execution_count": 18,
   "id": "undefined-immigration",
   "metadata": {},
   "outputs": [],
   "source": [
    "# y_pred_train = lof_model.fit_predict(x_train)"
   ]
  },
  {
   "cell_type": "code",
   "execution_count": 20,
   "id": "straight-lunch",
   "metadata": {},
   "outputs": [
    {
     "name": "stdout",
     "output_type": "stream",
     "text": [
      "Prediction Report\n",
      "               precision    recall  f1-score   support\n",
      "\n",
      "           0       0.99      0.99      0.99    100022\n",
      "           1       0.03      0.03      0.03      1410\n",
      "\n",
      "    accuracy                           0.97    101432\n",
      "   macro avg       0.51      0.51      0.51    101432\n",
      "weighted avg       0.97      0.97      0.97    101432\n",
      "\n"
     ]
    },
    {
     "data": {
      "image/png": "[encoded data removed]",
      "text/plain": [
       "<Figure size 360x360 with 2 Axes>"
      ]
     },
     "metadata": {
      "needs_background": "light"
     },
     "output_type": "display_data"
    }
   ],
   "source": [
    "# y_pred_train_label = [0 if x==1 else 1 for x in y_pred_train]\n",
    "# print(\"Prediction Report\\n\", classification_report(y_train, y_pred_train_label))\n",
    "# cm = confusion_matrix(y_train, y_pred_train_label)\n",
    "# plt.figure(figsize=(5,5))\n",
    "# sns.heatmap(data=cm, linewidths=.5, annot=True, square = True, cmap = 'Blues', fmt='d')\n",
    "# plt.ylabel('Actual label')\n",
    "# plt.xlabel('Predicted label')\n",
    "# plt.tight_layout()\n",
    "# plt.show()"
   ]
  },
  {
   "cell_type": "markdown",
   "id": "peaceful-assessment",
   "metadata": {},
   "source": [
    "## One Class SVM"
   ]
  },
  {
   "cell_type": "code",
   "execution_count": null,
   "id": "hollywood-marine",
   "metadata": {},
   "outputs": [],
   "source": [
    "# ocsvm_model = OneClassSVM()"
   ]
  },
  {
   "cell_type": "code",
   "execution_count": null,
   "id": "another-marathon",
   "metadata": {},
   "outputs": [],
   "source": [
    "# y_pred_train = ocsvm_model.fit_predict(x_train)"
   ]
  },
  {
   "cell_type": "code",
   "execution_count": null,
   "id": "developed-office",
   "metadata": {},
   "outputs": [],
   "source": [
    "# y_pred_train_label = [0 if x==1 else 1 for x in y_pred_train]\n",
    "# print(\"Prediction Report\\n\", classification_report(y_train, y_pred_train_label))\n",
    "# cm = confusion_matrix(y_train, y_pred_train_label)\n",
    "# plt.figure(figsize=(5,5))\n",
    "# sns.heatmap(data=cm, linewidths=.5, annot=True, square = True, cmap = 'Blues', fmt='d')\n",
    "# plt.ylabel('Actual label')\n",
    "# plt.xlabel('Predicted label')\n",
    "# plt.tight_layout()\n",
    "# plt.show()"
   ]
  },
  {
   "cell_type": "code",
   "execution_count": 22,
   "id": "renewable-shelter",
   "metadata": {},
   "outputs": [],
   "source": [
    "# # check whether it can follow the trends\n",
    "\n",
    "# count_loss_in_next_five_sec = 0\n",
    "# count_loss_not_in_next_five_sec = 0\n",
    "\n",
    "# for key, df_per_group in df_complete_with_features_final.groupby('group_id'):\n",
    "#     df_temp = copy.deepcopy(df_per_group)\n",
    "#     df_temp.reset_index(inplace=True)\n",
    "#     df_temp.drop(columns=['index', 'group_id'], inplace=True)\n",
    "#     pred = if_model.predict(df_temp[full_features_list])\n",
    "#     idx_pred_loss = np.where(pred == -1)\n",
    "    \n",
    "#     for idx in idx_pred_loss[0]:\n",
    "#         if idx+10 > len(df_temp):\n",
    "#             df_check = df_temp.iloc[idx: -1]\n",
    "#         else:\n",
    "#             df_check = df_temp.iloc[idx: idx+10]\n",
    "#         if df_check[df_check['lossOrNot'] == 1]['lossOrNot'].count() > 0:\n",
    "#             count_loss_in_next_five_sec += 1\n",
    "#         else:\n",
    "#             count_loss_not_in_next_five_sec += 1"
   ]
  },
  {
   "cell_type": "code",
   "execution_count": 23,
   "id": "obvious-gravity",
   "metadata": {},
   "outputs": [
    {
     "name": "stdout",
     "output_type": "stream",
     "text": [
      "\"in its next 5s\" includes itself, which means it is actually next 4.5s.\n",
      "Number of predicted losses with at least one actual loss in its next 5s: 1639\n",
      "Number of predicted losses without any actual loss in its next 5s: 27318\n",
      "Probability of a predicted loss having at least one actual loss in its next 5s: 0.056601167247988395\n"
     ]
    }
   ],
   "source": [
    "# print('\"in its next 5s\" includes itself, which means it is actually next 4.5s.')\n",
    "# print('Number of predicted losses with at least one actual loss in its next 5s:', count_loss_in_next_five_sec)\n",
    "# print('Number of predicted losses without any actual loss in its next 5s:', count_loss_not_in_next_five_sec)\n",
    "# print('Probability of a predicted loss having at least one actual loss in its next 5s:', count_loss_in_next_five_sec / (count_loss_in_next_five_sec + count_loss_not_in_next_five_sec))"
   ]
  }
 ],
 "metadata": {
  "kernelspec": {
   "display_name": "Python 3",
   "language": "python",
   "name": "python3"
  },
  "language_info": {
   "codemirror_mode": {
    "name": "ipython",
    "version": 3
   },
   "file_extension": ".py",
   "mimetype": "text/x-python",
   "name": "python",
   "nbconvert_exporter": "python",
   "pygments_lexer": "ipython3",
   "version": "3.7.9"
  }
 },
 "nbformat": 4,
 "nbformat_minor": 5
}
