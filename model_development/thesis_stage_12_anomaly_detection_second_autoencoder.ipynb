{
 "cells": [
  {
   "cell_type": "markdown",
   "id": "patient-cutting",
   "metadata": {},
   "source": [
    "## Autoencoder"
   ]
  },
  {
   "cell_type": "code",
   "execution_count": 1,
   "id": "cultural-category",
   "metadata": {},
   "outputs": [],
   "source": [
    "import copy\n",
    "import pandas as pd\n",
    "from matplotlib import pyplot as plt\n",
    "import numpy as np\n",
    "import warnings\n",
    "import seaborn as sns\n",
    "from sklearn.metrics import classification_report, confusion_matrix \n",
    "import tensorflow as tf\n",
    "from tensorflow import keras\n",
    "# from sklearn.model_selection import train_test_split\n",
    "\n",
    "warnings.filterwarnings('ignore')"
   ]
  },
  {
   "cell_type": "code",
   "execution_count": 2,
   "id": "bottom-iceland",
   "metadata": {},
   "outputs": [],
   "source": [
    "complete_list = ['timestamp', 'lossOrNot']\n",
    "selected_features_list_removing_correlation = [\n",
    "    'interarrival_std',\n",
    "    'interarrival_min',\n",
    "    'interarrival_max',\n",
    "    'interarrival_skew',\n",
    "    'interarrival_moment4',\n",
    "    'interarrival_max_min_R',\n",
    "    'interarrival_max_value_count_percent',\n",
    "    'len_udp_moment4',\n",
    "    'len_udp_max_min_diff',\n",
    "    'len_udp_max_value_count_percent',\n",
    "    'inter_time_sequence_std'\n",
    "]\n",
    "complete_list.extend(selected_features_list_removing_correlation)\n",
    "\n",
    "full_features_list = []\n",
    "for feature in selected_features_list_removing_correlation:\n",
    "    for i in range(1,11):\n",
    "        col_title = f'{feature}_minus_{500*i}ms'\n",
    "        full_features_list.append(col_title)"
   ]
  },
  {
   "cell_type": "code",
   "execution_count": 3,
   "id": "unnecessary-james",
   "metadata": {},
   "outputs": [],
   "source": [
    "shrink_feature_list = []\n",
    "for feature in selected_features_list_removing_correlation:\n",
    "    for i in range(1, 8):\n",
    "        col_title = f'{feature}_minus_{500*i}ms'\n",
    "        shrink_feature_list.append(col_title)"
   ]
  },
  {
   "cell_type": "code",
   "execution_count": 4,
   "id": "silver-lawrence",
   "metadata": {},
   "outputs": [],
   "source": [
    "# load the entire dataset\n",
    "\n",
    "df_complete_with_features_final = pd.read_csv('models/df_final_label_feature.csv')"
   ]
  },
  {
   "cell_type": "code",
   "execution_count": 5,
   "id": "periodic-activity",
   "metadata": {},
   "outputs": [
    {
     "data": {
      "text/html": [
       "<div>\n",
       "<style scoped>\n",
       "    .dataframe tbody tr th:only-of-type {\n",
       "        vertical-align: middle;\n",
       "    }\n",
       "\n",
       "    .dataframe tbody tr th {\n",
       "        vertical-align: top;\n",
       "    }\n",
       "\n",
       "    .dataframe thead th {\n",
       "        text-align: right;\n",
       "    }\n",
       "</style>\n",
       "<table border=\"1\" class=\"dataframe\">\n",
       "  <thead>\n",
       "    <tr style=\"text-align: right;\">\n",
       "      <th></th>\n",
       "      <th>timestamp</th>\n",
       "      <th>lossOrNot</th>\n",
       "      <th>group_id</th>\n",
       "      <th>interarrival_std_minus_500ms</th>\n",
       "      <th>interarrival_std_minus_1000ms</th>\n",
       "      <th>interarrival_std_minus_1500ms</th>\n",
       "      <th>interarrival_std_minus_2000ms</th>\n",
       "      <th>interarrival_std_minus_2500ms</th>\n",
       "      <th>interarrival_std_minus_3000ms</th>\n",
       "      <th>interarrival_std_minus_3500ms</th>\n",
       "      <th>...</th>\n",
       "      <th>inter_time_sequence_std_minus_500ms</th>\n",
       "      <th>inter_time_sequence_std_minus_1000ms</th>\n",
       "      <th>inter_time_sequence_std_minus_1500ms</th>\n",
       "      <th>inter_time_sequence_std_minus_2000ms</th>\n",
       "      <th>inter_time_sequence_std_minus_2500ms</th>\n",
       "      <th>inter_time_sequence_std_minus_3000ms</th>\n",
       "      <th>inter_time_sequence_std_minus_3500ms</th>\n",
       "      <th>inter_time_sequence_std_minus_4000ms</th>\n",
       "      <th>inter_time_sequence_std_minus_4500ms</th>\n",
       "      <th>inter_time_sequence_std_minus_5000ms</th>\n",
       "    </tr>\n",
       "  </thead>\n",
       "  <tbody>\n",
       "    <tr>\n",
       "      <th>0</th>\n",
       "      <td>2020-12-14 13:34:44.500000</td>\n",
       "      <td>0.0</td>\n",
       "      <td>1</td>\n",
       "      <td>0.185914</td>\n",
       "      <td>0.111167</td>\n",
       "      <td>0.149341</td>\n",
       "      <td>0.168203</td>\n",
       "      <td>0.224819</td>\n",
       "      <td>0.287330</td>\n",
       "      <td>0.584144</td>\n",
       "      <td>...</td>\n",
       "      <td>0.362588</td>\n",
       "      <td>0.420006</td>\n",
       "      <td>0.202741</td>\n",
       "      <td>0.374366</td>\n",
       "      <td>0.419943</td>\n",
       "      <td>0.231871</td>\n",
       "      <td>0.164850</td>\n",
       "      <td>0.452376</td>\n",
       "      <td>0.182312</td>\n",
       "      <td>0.000000</td>\n",
       "    </tr>\n",
       "    <tr>\n",
       "      <th>1</th>\n",
       "      <td>2020-12-14 13:34:45</td>\n",
       "      <td>0.0</td>\n",
       "      <td>1</td>\n",
       "      <td>0.169699</td>\n",
       "      <td>0.185914</td>\n",
       "      <td>0.111167</td>\n",
       "      <td>0.149341</td>\n",
       "      <td>0.168203</td>\n",
       "      <td>0.224819</td>\n",
       "      <td>0.287330</td>\n",
       "      <td>...</td>\n",
       "      <td>0.204396</td>\n",
       "      <td>0.362588</td>\n",
       "      <td>0.420006</td>\n",
       "      <td>0.202741</td>\n",
       "      <td>0.374366</td>\n",
       "      <td>0.419943</td>\n",
       "      <td>0.231871</td>\n",
       "      <td>0.164850</td>\n",
       "      <td>0.452376</td>\n",
       "      <td>0.182312</td>\n",
       "    </tr>\n",
       "    <tr>\n",
       "      <th>2</th>\n",
       "      <td>2020-12-14 13:34:45.500000</td>\n",
       "      <td>0.0</td>\n",
       "      <td>1</td>\n",
       "      <td>0.122365</td>\n",
       "      <td>0.169699</td>\n",
       "      <td>0.185914</td>\n",
       "      <td>0.111167</td>\n",
       "      <td>0.149341</td>\n",
       "      <td>0.168203</td>\n",
       "      <td>0.224819</td>\n",
       "      <td>...</td>\n",
       "      <td>0.336296</td>\n",
       "      <td>0.204396</td>\n",
       "      <td>0.362588</td>\n",
       "      <td>0.420006</td>\n",
       "      <td>0.202741</td>\n",
       "      <td>0.374366</td>\n",
       "      <td>0.419943</td>\n",
       "      <td>0.231871</td>\n",
       "      <td>0.164850</td>\n",
       "      <td>0.452376</td>\n",
       "    </tr>\n",
       "    <tr>\n",
       "      <th>3</th>\n",
       "      <td>2020-12-14 13:34:46</td>\n",
       "      <td>0.0</td>\n",
       "      <td>1</td>\n",
       "      <td>0.081800</td>\n",
       "      <td>0.122365</td>\n",
       "      <td>0.169699</td>\n",
       "      <td>0.185914</td>\n",
       "      <td>0.111167</td>\n",
       "      <td>0.149341</td>\n",
       "      <td>0.168203</td>\n",
       "      <td>...</td>\n",
       "      <td>0.438010</td>\n",
       "      <td>0.336296</td>\n",
       "      <td>0.204396</td>\n",
       "      <td>0.362588</td>\n",
       "      <td>0.420006</td>\n",
       "      <td>0.202741</td>\n",
       "      <td>0.374366</td>\n",
       "      <td>0.419943</td>\n",
       "      <td>0.231871</td>\n",
       "      <td>0.164850</td>\n",
       "    </tr>\n",
       "    <tr>\n",
       "      <th>4</th>\n",
       "      <td>2020-12-14 13:34:46.500000</td>\n",
       "      <td>0.0</td>\n",
       "      <td>1</td>\n",
       "      <td>0.113890</td>\n",
       "      <td>0.081800</td>\n",
       "      <td>0.122365</td>\n",
       "      <td>0.169699</td>\n",
       "      <td>0.185914</td>\n",
       "      <td>0.111167</td>\n",
       "      <td>0.149341</td>\n",
       "      <td>...</td>\n",
       "      <td>0.210085</td>\n",
       "      <td>0.438010</td>\n",
       "      <td>0.336296</td>\n",
       "      <td>0.204396</td>\n",
       "      <td>0.362588</td>\n",
       "      <td>0.420006</td>\n",
       "      <td>0.202741</td>\n",
       "      <td>0.374366</td>\n",
       "      <td>0.419943</td>\n",
       "      <td>0.231871</td>\n",
       "    </tr>\n",
       "    <tr>\n",
       "      <th>...</th>\n",
       "      <td>...</td>\n",
       "      <td>...</td>\n",
       "      <td>...</td>\n",
       "      <td>...</td>\n",
       "      <td>...</td>\n",
       "      <td>...</td>\n",
       "      <td>...</td>\n",
       "      <td>...</td>\n",
       "      <td>...</td>\n",
       "      <td>...</td>\n",
       "      <td>...</td>\n",
       "      <td>...</td>\n",
       "      <td>...</td>\n",
       "      <td>...</td>\n",
       "      <td>...</td>\n",
       "      <td>...</td>\n",
       "      <td>...</td>\n",
       "      <td>...</td>\n",
       "      <td>...</td>\n",
       "      <td>...</td>\n",
       "      <td>...</td>\n",
       "    </tr>\n",
       "    <tr>\n",
       "      <th>2028655</th>\n",
       "      <td>2020-05-13 14:59:09.000</td>\n",
       "      <td>0.0</td>\n",
       "      <td>6998</td>\n",
       "      <td>0.083744</td>\n",
       "      <td>0.075046</td>\n",
       "      <td>0.078230</td>\n",
       "      <td>0.131936</td>\n",
       "      <td>0.078184</td>\n",
       "      <td>0.058745</td>\n",
       "      <td>0.069150</td>\n",
       "      <td>...</td>\n",
       "      <td>0.213018</td>\n",
       "      <td>1.000000</td>\n",
       "      <td>0.223662</td>\n",
       "      <td>0.202375</td>\n",
       "      <td>0.839116</td>\n",
       "      <td>0.213018</td>\n",
       "      <td>0.426054</td>\n",
       "      <td>0.213018</td>\n",
       "      <td>0.213018</td>\n",
       "      <td>0.934599</td>\n",
       "    </tr>\n",
       "    <tr>\n",
       "      <th>2028656</th>\n",
       "      <td>2020-05-13 14:59:09.500</td>\n",
       "      <td>0.0</td>\n",
       "      <td>6998</td>\n",
       "      <td>0.083497</td>\n",
       "      <td>0.083744</td>\n",
       "      <td>0.075046</td>\n",
       "      <td>0.078230</td>\n",
       "      <td>0.131936</td>\n",
       "      <td>0.078184</td>\n",
       "      <td>0.058745</td>\n",
       "      <td>...</td>\n",
       "      <td>0.213018</td>\n",
       "      <td>0.213018</td>\n",
       "      <td>1.000000</td>\n",
       "      <td>0.223662</td>\n",
       "      <td>0.202375</td>\n",
       "      <td>0.839116</td>\n",
       "      <td>0.213018</td>\n",
       "      <td>0.426054</td>\n",
       "      <td>0.213018</td>\n",
       "      <td>0.213018</td>\n",
       "    </tr>\n",
       "    <tr>\n",
       "      <th>2028657</th>\n",
       "      <td>2020-05-13 14:59:10.000</td>\n",
       "      <td>0.0</td>\n",
       "      <td>6998</td>\n",
       "      <td>0.048801</td>\n",
       "      <td>0.083497</td>\n",
       "      <td>0.083744</td>\n",
       "      <td>0.075046</td>\n",
       "      <td>0.078230</td>\n",
       "      <td>0.131936</td>\n",
       "      <td>0.078184</td>\n",
       "      <td>...</td>\n",
       "      <td>0.822931</td>\n",
       "      <td>0.213018</td>\n",
       "      <td>0.213018</td>\n",
       "      <td>1.000000</td>\n",
       "      <td>0.223662</td>\n",
       "      <td>0.202375</td>\n",
       "      <td>0.839116</td>\n",
       "      <td>0.213018</td>\n",
       "      <td>0.426054</td>\n",
       "      <td>0.213018</td>\n",
       "    </tr>\n",
       "    <tr>\n",
       "      <th>2028658</th>\n",
       "      <td>2020-05-13 14:59:10.500</td>\n",
       "      <td>0.0</td>\n",
       "      <td>6998</td>\n",
       "      <td>0.133611</td>\n",
       "      <td>0.048801</td>\n",
       "      <td>0.083497</td>\n",
       "      <td>0.083744</td>\n",
       "      <td>0.075046</td>\n",
       "      <td>0.078230</td>\n",
       "      <td>0.131936</td>\n",
       "      <td>...</td>\n",
       "      <td>0.223662</td>\n",
       "      <td>0.822931</td>\n",
       "      <td>0.213018</td>\n",
       "      <td>0.213018</td>\n",
       "      <td>1.000000</td>\n",
       "      <td>0.223662</td>\n",
       "      <td>0.202375</td>\n",
       "      <td>0.839116</td>\n",
       "      <td>0.213018</td>\n",
       "      <td>0.426054</td>\n",
       "    </tr>\n",
       "    <tr>\n",
       "      <th>2028659</th>\n",
       "      <td>2020-05-13 14:59:11.000</td>\n",
       "      <td>0.0</td>\n",
       "      <td>6998</td>\n",
       "      <td>0.098195</td>\n",
       "      <td>0.133611</td>\n",
       "      <td>0.048801</td>\n",
       "      <td>0.083497</td>\n",
       "      <td>0.083744</td>\n",
       "      <td>0.075046</td>\n",
       "      <td>0.078230</td>\n",
       "      <td>...</td>\n",
       "      <td>0.431101</td>\n",
       "      <td>0.223662</td>\n",
       "      <td>0.822931</td>\n",
       "      <td>0.213018</td>\n",
       "      <td>0.213018</td>\n",
       "      <td>1.000000</td>\n",
       "      <td>0.223662</td>\n",
       "      <td>0.202375</td>\n",
       "      <td>0.839116</td>\n",
       "      <td>0.213018</td>\n",
       "    </tr>\n",
       "  </tbody>\n",
       "</table>\n",
       "<p>2028660 rows × 113 columns</p>\n",
       "</div>"
      ],
      "text/plain": [
       "                          timestamp  lossOrNot  group_id  \\\n",
       "0        2020-12-14 13:34:44.500000        0.0         1   \n",
       "1               2020-12-14 13:34:45        0.0         1   \n",
       "2        2020-12-14 13:34:45.500000        0.0         1   \n",
       "3               2020-12-14 13:34:46        0.0         1   \n",
       "4        2020-12-14 13:34:46.500000        0.0         1   \n",
       "...                             ...        ...       ...   \n",
       "2028655     2020-05-13 14:59:09.000        0.0      6998   \n",
       "2028656     2020-05-13 14:59:09.500        0.0      6998   \n",
       "2028657     2020-05-13 14:59:10.000        0.0      6998   \n",
       "2028658     2020-05-13 14:59:10.500        0.0      6998   \n",
       "2028659     2020-05-13 14:59:11.000        0.0      6998   \n",
       "\n",
       "         interarrival_std_minus_500ms  interarrival_std_minus_1000ms  \\\n",
       "0                            0.185914                       0.111167   \n",
       "1                            0.169699                       0.185914   \n",
       "2                            0.122365                       0.169699   \n",
       "3                            0.081800                       0.122365   \n",
       "4                            0.113890                       0.081800   \n",
       "...                               ...                            ...   \n",
       "2028655                      0.083744                       0.075046   \n",
       "2028656                      0.083497                       0.083744   \n",
       "2028657                      0.048801                       0.083497   \n",
       "2028658                      0.133611                       0.048801   \n",
       "2028659                      0.098195                       0.133611   \n",
       "\n",
       "         interarrival_std_minus_1500ms  interarrival_std_minus_2000ms  \\\n",
       "0                             0.149341                       0.168203   \n",
       "1                             0.111167                       0.149341   \n",
       "2                             0.185914                       0.111167   \n",
       "3                             0.169699                       0.185914   \n",
       "4                             0.122365                       0.169699   \n",
       "...                                ...                            ...   \n",
       "2028655                       0.078230                       0.131936   \n",
       "2028656                       0.075046                       0.078230   \n",
       "2028657                       0.083744                       0.075046   \n",
       "2028658                       0.083497                       0.083744   \n",
       "2028659                       0.048801                       0.083497   \n",
       "\n",
       "         interarrival_std_minus_2500ms  interarrival_std_minus_3000ms  \\\n",
       "0                             0.224819                       0.287330   \n",
       "1                             0.168203                       0.224819   \n",
       "2                             0.149341                       0.168203   \n",
       "3                             0.111167                       0.149341   \n",
       "4                             0.185914                       0.111167   \n",
       "...                                ...                            ...   \n",
       "2028655                       0.078184                       0.058745   \n",
       "2028656                       0.131936                       0.078184   \n",
       "2028657                       0.078230                       0.131936   \n",
       "2028658                       0.075046                       0.078230   \n",
       "2028659                       0.083744                       0.075046   \n",
       "\n",
       "         interarrival_std_minus_3500ms  ...  \\\n",
       "0                             0.584144  ...   \n",
       "1                             0.287330  ...   \n",
       "2                             0.224819  ...   \n",
       "3                             0.168203  ...   \n",
       "4                             0.149341  ...   \n",
       "...                                ...  ...   \n",
       "2028655                       0.069150  ...   \n",
       "2028656                       0.058745  ...   \n",
       "2028657                       0.078184  ...   \n",
       "2028658                       0.131936  ...   \n",
       "2028659                       0.078230  ...   \n",
       "\n",
       "         inter_time_sequence_std_minus_500ms  \\\n",
       "0                                   0.362588   \n",
       "1                                   0.204396   \n",
       "2                                   0.336296   \n",
       "3                                   0.438010   \n",
       "4                                   0.210085   \n",
       "...                                      ...   \n",
       "2028655                             0.213018   \n",
       "2028656                             0.213018   \n",
       "2028657                             0.822931   \n",
       "2028658                             0.223662   \n",
       "2028659                             0.431101   \n",
       "\n",
       "         inter_time_sequence_std_minus_1000ms  \\\n",
       "0                                    0.420006   \n",
       "1                                    0.362588   \n",
       "2                                    0.204396   \n",
       "3                                    0.336296   \n",
       "4                                    0.438010   \n",
       "...                                       ...   \n",
       "2028655                              1.000000   \n",
       "2028656                              0.213018   \n",
       "2028657                              0.213018   \n",
       "2028658                              0.822931   \n",
       "2028659                              0.223662   \n",
       "\n",
       "         inter_time_sequence_std_minus_1500ms  \\\n",
       "0                                    0.202741   \n",
       "1                                    0.420006   \n",
       "2                                    0.362588   \n",
       "3                                    0.204396   \n",
       "4                                    0.336296   \n",
       "...                                       ...   \n",
       "2028655                              0.223662   \n",
       "2028656                              1.000000   \n",
       "2028657                              0.213018   \n",
       "2028658                              0.213018   \n",
       "2028659                              0.822931   \n",
       "\n",
       "         inter_time_sequence_std_minus_2000ms  \\\n",
       "0                                    0.374366   \n",
       "1                                    0.202741   \n",
       "2                                    0.420006   \n",
       "3                                    0.362588   \n",
       "4                                    0.204396   \n",
       "...                                       ...   \n",
       "2028655                              0.202375   \n",
       "2028656                              0.223662   \n",
       "2028657                              1.000000   \n",
       "2028658                              0.213018   \n",
       "2028659                              0.213018   \n",
       "\n",
       "         inter_time_sequence_std_minus_2500ms  \\\n",
       "0                                    0.419943   \n",
       "1                                    0.374366   \n",
       "2                                    0.202741   \n",
       "3                                    0.420006   \n",
       "4                                    0.362588   \n",
       "...                                       ...   \n",
       "2028655                              0.839116   \n",
       "2028656                              0.202375   \n",
       "2028657                              0.223662   \n",
       "2028658                              1.000000   \n",
       "2028659                              0.213018   \n",
       "\n",
       "         inter_time_sequence_std_minus_3000ms  \\\n",
       "0                                    0.231871   \n",
       "1                                    0.419943   \n",
       "2                                    0.374366   \n",
       "3                                    0.202741   \n",
       "4                                    0.420006   \n",
       "...                                       ...   \n",
       "2028655                              0.213018   \n",
       "2028656                              0.839116   \n",
       "2028657                              0.202375   \n",
       "2028658                              0.223662   \n",
       "2028659                              1.000000   \n",
       "\n",
       "         inter_time_sequence_std_minus_3500ms  \\\n",
       "0                                    0.164850   \n",
       "1                                    0.231871   \n",
       "2                                    0.419943   \n",
       "3                                    0.374366   \n",
       "4                                    0.202741   \n",
       "...                                       ...   \n",
       "2028655                              0.426054   \n",
       "2028656                              0.213018   \n",
       "2028657                              0.839116   \n",
       "2028658                              0.202375   \n",
       "2028659                              0.223662   \n",
       "\n",
       "         inter_time_sequence_std_minus_4000ms  \\\n",
       "0                                    0.452376   \n",
       "1                                    0.164850   \n",
       "2                                    0.231871   \n",
       "3                                    0.419943   \n",
       "4                                    0.374366   \n",
       "...                                       ...   \n",
       "2028655                              0.213018   \n",
       "2028656                              0.426054   \n",
       "2028657                              0.213018   \n",
       "2028658                              0.839116   \n",
       "2028659                              0.202375   \n",
       "\n",
       "         inter_time_sequence_std_minus_4500ms  \\\n",
       "0                                    0.182312   \n",
       "1                                    0.452376   \n",
       "2                                    0.164850   \n",
       "3                                    0.231871   \n",
       "4                                    0.419943   \n",
       "...                                       ...   \n",
       "2028655                              0.213018   \n",
       "2028656                              0.213018   \n",
       "2028657                              0.426054   \n",
       "2028658                              0.213018   \n",
       "2028659                              0.839116   \n",
       "\n",
       "         inter_time_sequence_std_minus_5000ms  \n",
       "0                                    0.000000  \n",
       "1                                    0.182312  \n",
       "2                                    0.452376  \n",
       "3                                    0.164850  \n",
       "4                                    0.231871  \n",
       "...                                       ...  \n",
       "2028655                              0.934599  \n",
       "2028656                              0.213018  \n",
       "2028657                              0.213018  \n",
       "2028658                              0.426054  \n",
       "2028659                              0.213018  \n",
       "\n",
       "[2028660 rows x 113 columns]"
      ]
     },
     "execution_count": 5,
     "metadata": {},
     "output_type": "execute_result"
    }
   ],
   "source": [
    "df_complete_with_features_final"
   ]
  },
  {
   "cell_type": "code",
   "execution_count": 6,
   "id": "pressed-change",
   "metadata": {},
   "outputs": [],
   "source": [
    "df_loss = df_complete_with_features_final[df_complete_with_features_final['lossOrNot'] > 0]\n",
    "df_no_loss = df_complete_with_features_final[df_complete_with_features_final['lossOrNot'] < 1]\n",
    "\n",
    "df_loss_shuffled = df_loss.sample(frac=1).reset_index()\n",
    "df_loss_shuffled.drop(['index'], axis=1, inplace=True)\n",
    "df_no_loss_shuffled = df_no_loss.sample(frac=1).reset_index()\n",
    "df_no_loss_shuffled.drop(['index'], axis=1, inplace=True)"
   ]
  },
  {
   "cell_type": "code",
   "execution_count": 7,
   "id": "fleet-greene",
   "metadata": {},
   "outputs": [],
   "source": [
    "# only train and test\n",
    "\n",
    "df_train = df_no_loss_shuffled.iloc[0:int(df_no_loss_shuffled.shape[0] * 0.7)]\n",
    "df_train_shuffled = df_train.sample(frac=1).reset_index()\n",
    "df_train_shuffled.drop(['index'], axis=1, inplace=True)\n",
    "\n",
    "df_test = pd.concat([df_loss_shuffled, df_no_loss_shuffled.iloc[int(df_no_loss_shuffled.shape[0] * 0.7)+1: -1]])\n",
    "df_test_shuffled = df_test.sample(frac=1).reset_index()\n",
    "df_test_shuffled.drop(['index'], axis=1, inplace=True)"
   ]
  },
  {
   "cell_type": "code",
   "execution_count": 8,
   "id": "massive-tattoo",
   "metadata": {},
   "outputs": [],
   "source": [
    "x_train = df_train_shuffled[shrink_feature_list]\n",
    "x_test = df_test_shuffled[shrink_feature_list]\n",
    "y_train = df_train_shuffled[['lossOrNot']]\n",
    "y_train = y_train.astype(int)\n",
    "y_test = df_test_shuffled[['lossOrNot']]\n",
    "y_test = y_test.astype(int)"
   ]
  },
  {
   "cell_type": "markdown",
   "id": "soviet-latino",
   "metadata": {},
   "source": [
    "## Normal autoencoder"
   ]
  },
  {
   "cell_type": "code",
   "execution_count": 9,
   "id": "liquid-sperm",
   "metadata": {},
   "outputs": [],
   "source": [
    "# define the autoencoder nn\n",
    "\n",
    "input_layer = keras.layers.Input(shape=(77,))\n",
    "\n",
    "encoder = keras.Sequential([\n",
    "    keras.layers.Dense(32, activation='relu'),\n",
    "    keras.layers.Dense(16, activation='relu'),\n",
    "    keras.layers.Dense(8, activation='relu'),\n",
    "])(input_layer)\n",
    "\n",
    "decoder = keras.Sequential([\n",
    "    keras.layers.Dense(16, activation='relu'),\n",
    "    keras.layers.Dense(32, activation='relu'),\n",
    "    keras.layers.Dense(77, activation='sigmoid'),\n",
    "])(encoder)\n",
    "\n",
    "autoencoder = keras.Model(inputs=input_layer, outputs=decoder)"
   ]
  },
  {
   "cell_type": "code",
   "execution_count": 10,
   "id": "affiliated-wednesday",
   "metadata": {},
   "outputs": [],
   "source": [
    "autoencoder.compile(\n",
    "    optimizer=tf.keras.optimizers.Adam(0.001), \n",
    "    loss=keras.losses.MeanAbsoluteError()\n",
    ")"
   ]
  },
  {
   "cell_type": "code",
   "execution_count": 34,
   "id": "divided-trout",
   "metadata": {},
   "outputs": [
    {
     "name": "stdout",
     "output_type": "stream",
     "text": [
      "Epoch 1/10\n",
      "21880/21880 [==============================] - 269s 12ms/step - loss: 0.0669 - val_loss: 0.0626\n",
      "Epoch 2/10\n",
      "21880/21880 [==============================] - 262s 12ms/step - loss: 0.0619 - val_loss: 0.0613\n",
      "Epoch 3/10\n",
      "21880/21880 [==============================] - 230s 11ms/step - loss: 0.0609 - val_loss: 0.0607\n",
      "Epoch 4/10\n",
      "21880/21880 [==============================] - 257s 12ms/step - loss: 0.0605 - val_loss: 0.0603\n",
      "Epoch 5/10\n",
      "21880/21880 [==============================] - 262s 12ms/step - loss: 0.0602 - val_loss: 0.0602\n",
      "Epoch 6/10\n",
      "21880/21880 [==============================] - 1027s 47ms/step - loss: 0.0601 - val_loss: 0.0600\n",
      "Epoch 7/10\n",
      "21880/21880 [==============================] - 379s 17ms/step - loss: 0.0600 - val_loss: 0.0600\n",
      "Epoch 8/10\n",
      "21880/21880 [==============================] - 252s 12ms/step - loss: 0.0598 - val_loss: 0.0599\n",
      "Epoch 9/10\n",
      "21880/21880 [==============================] - 241s 11ms/step - loss: 0.0597 - val_loss: 0.0596\n",
      "Epoch 10/10\n",
      "21880/21880 [==============================] - 260s 12ms/step - loss: 0.0596 - val_loss: 0.0596\n"
     ]
    },
    {
     "data": {
      "text/plain": [
       "<tensorflow.python.keras.callbacks.History at 0x7f9ffc28c250>"
      ]
     },
     "execution_count": 34,
     "metadata": {},
     "output_type": "execute_result"
    }
   ],
   "source": [
    "# use training and test set during training phase\n",
    "# use test set as validation set \n",
    "# use test set to determine the threshold and check the performance based on the chosen threshold\n",
    "\n",
    "autoencoder.fit(\n",
    "    x_train, x_train,\n",
    "    epochs = 10,\n",
    "    batch_size = 64,\n",
    "    validation_data = (x_test, x_test)\n",
    ")"
   ]
  },
  {
   "cell_type": "code",
   "execution_count": 12,
   "id": "formal-street",
   "metadata": {},
   "outputs": [
    {
     "data": {
      "text/plain": [
       "4.489122944388477"
      ]
     },
     "execution_count": 12,
     "metadata": {},
     "output_type": "execute_result"
    }
   ],
   "source": [
    "percetage = len(y_test[y_test['lossOrNot'] > 0]) / len(y_test) * 100\n",
    "percetage"
   ]
  },
  {
   "cell_type": "code",
   "execution_count": 36,
   "id": "simplified-porter",
   "metadata": {},
   "outputs": [
    {
     "name": "stdout",
     "output_type": "stream",
     "text": [
      "The threshold is:  0.13054735586487035\n"
     ]
    },
    {
     "data": {
      "image/png": "[encoded data removed]",
      "text/plain": [
       "<Figure size 432x288 with 1 Axes>"
      ]
     },
     "metadata": {
      "needs_background": "light"
     },
     "output_type": "display_data"
    }
   ],
   "source": [
    "predictions = autoencoder.predict(x_test)\n",
    "prediction_loss = keras.losses.mae(predictions, x_test)\n",
    "threshold = np.percentile(prediction_loss, 100-percetage)\n",
    "print('The threshold is: ', threshold)\n",
    "sns.histplot(prediction_loss, bins=30, alpha=0.8)\n",
    "plt.axvline(x=threshold, color='red', label='threshold')\n",
    "plt.ylabel('Quantity')\n",
    "plt.xlabel('Mean Absolute Error')\n",
    "plt.legend()\n",
    "plt.show()"
   ]
  },
  {
   "cell_type": "code",
   "execution_count": 37,
   "id": "cosmetic-teddy",
   "metadata": {},
   "outputs": [
    {
     "name": "stdout",
     "output_type": "stream",
     "text": [
      "Prediction Report\n",
      "               precision    recall  f1-score   support\n",
      "\n",
      "           0       0.96      0.96      0.96    600134\n",
      "           1       0.05      0.05      0.05     28207\n",
      "\n",
      "    accuracy                           0.91    628341\n",
      "   macro avg       0.50      0.50      0.50    628341\n",
      "weighted avg       0.91      0.91      0.91    628341\n",
      "\n"
     ]
    },
    {
     "data": {
      "image/png": "[encoded data removed]",
      "text/plain": [
       "<Figure size 360x360 with 2 Axes>"
      ]
     },
     "metadata": {
      "needs_background": "light"
     },
     "output_type": "display_data"
    }
   ],
   "source": [
    "prediction_label = [0 if x < threshold else 1 for x in prediction_loss]\n",
    "print(\"Prediction Report\\n\", classification_report(y_test, prediction_label))\n",
    "cm = confusion_matrix(y_test, prediction_label)\n",
    "plt.figure(figsize=(5,5))\n",
    "sns.heatmap(data=cm, linewidths=.5, annot=True, square = True, cmap = 'Blues', fmt='d')\n",
    "plt.ylabel('Actual label')\n",
    "plt.xlabel('Predicted label')\n",
    "plt.tight_layout()\n",
    "plt.show()"
   ]
  },
  {
   "cell_type": "code",
   "execution_count": 7,
   "id": "requested-donor",
   "metadata": {},
   "outputs": [],
   "source": [
    "# # use loss dataset in training (useless!!!)\n",
    "\n",
    "# df_train = df_loss_shuffled.iloc[0:int(df_loss_shuffled.shape[0] * 0.7)]\n",
    "# df_train_shuffled = df_train.sample(frac=1).reset_index()\n",
    "# df_train_shuffled.drop(['index'], axis=1, inplace=True)\n",
    "\n",
    "# df_test = pd.concat([df_no_loss_shuffled, df_loss_shuffled.iloc[int(df_loss_shuffled.shape[0] * 0.7)+1: -1]])\n",
    "# df_test_shuffled = df_test.sample(frac=1).reset_index()\n",
    "# df_test_shuffled.drop(['index'], axis=1, inplace=True)\n",
    "\n",
    "# x_train = df_train_shuffled[shrink_feature_list]\n",
    "# x_test = df_test_shuffled[shrink_feature_list]\n",
    "# y_train = df_train_shuffled[['lossOrNot']]\n",
    "# y_train = y_train.astype(int)\n",
    "# y_test = df_test_shuffled[['lossOrNot']]\n",
    "# y_test = y_test.astype(int)"
   ]
  },
  {
   "cell_type": "code",
   "execution_count": 8,
   "id": "assigned-sleeping",
   "metadata": {},
   "outputs": [],
   "source": [
    "# # define the autoencoder nn\n",
    "\n",
    "# input_layer = keras.layers.Input(shape=(77,))\n",
    "\n",
    "# encoder = keras.Sequential([\n",
    "#     keras.layers.Dense(32, activation='relu'),\n",
    "#     keras.layers.Dense(16, activation='relu'),\n",
    "#     keras.layers.Dense(8, activation='relu'),\n",
    "# ])(input_layer)\n",
    "\n",
    "# decoder = keras.Sequential([\n",
    "#     keras.layers.Dense(16, activation='relu'),\n",
    "#     keras.layers.Dense(32, activation='relu'),\n",
    "#     keras.layers.Dense(77, activation='sigmoid'),\n",
    "# ])(encoder)\n",
    "\n",
    "# autoencoder_new = keras.Model(inputs=input_layer, outputs=decoder)\n",
    "\n",
    "# autoencoder_new.compile(\n",
    "#     optimizer=tf.keras.optimizers.Adam(0.001), \n",
    "#     loss=keras.losses.MeanAbsoluteError()\n",
    "# )"
   ]
  },
  {
   "cell_type": "code",
   "execution_count": 13,
   "id": "excessive-spell",
   "metadata": {},
   "outputs": [
    {
     "name": "stdout",
     "output_type": "stream",
     "text": [
      "Epoch 1/10\n",
      "309/309 [==============================] - 12s 40ms/step - loss: 0.0623\n",
      "Epoch 2/10\n",
      "309/309 [==============================] - 12s 39ms/step - loss: 0.0617\n",
      "Epoch 3/10\n",
      "309/309 [==============================] - 11s 36ms/step - loss: 0.0613\n",
      "Epoch 4/10\n",
      "309/309 [==============================] - 9s 28ms/step - loss: 0.0610\n",
      "Epoch 5/10\n",
      "309/309 [==============================] - 11s 37ms/step - loss: 0.0607\n",
      "Epoch 6/10\n",
      "309/309 [==============================] - 11s 36ms/step - loss: 0.0605\n",
      "Epoch 7/10\n",
      "309/309 [==============================] - 15s 47ms/step - loss: 0.0603\n",
      "Epoch 8/10\n",
      "309/309 [==============================] - 12s 38ms/step - loss: 0.0600\n",
      "Epoch 9/10\n",
      "309/309 [==============================] - 8s 27ms/step - loss: 0.0599\n",
      "Epoch 10/10\n",
      "309/309 [==============================] - 17s 56ms/step - loss: 0.0597\n"
     ]
    },
    {
     "data": {
      "text/plain": [
       "<tensorflow.python.keras.callbacks.History at 0x7f74382bcf50>"
      ]
     },
     "execution_count": 13,
     "metadata": {},
     "output_type": "execute_result"
    }
   ],
   "source": [
    "# autoencoder_new.fit(\n",
    "#     x_train, x_train,\n",
    "#     epochs = 10,\n",
    "#     batch_size = 64\n",
    "# )"
   ]
  },
  {
   "cell_type": "code",
   "execution_count": 14,
   "id": "integral-source",
   "metadata": {},
   "outputs": [
    {
     "data": {
      "text/plain": [
       "0.42117283268472416"
      ]
     },
     "execution_count": 14,
     "metadata": {},
     "output_type": "execute_result"
    }
   ],
   "source": [
    "# percetage = len(y_test[y_test['lossOrNot'] > 0]) / len(y_test) * 100\n",
    "# percetage"
   ]
  },
  {
   "cell_type": "code",
   "execution_count": 15,
   "id": "early-alabama",
   "metadata": {},
   "outputs": [
    {
     "name": "stdout",
     "output_type": "stream",
     "text": [
      "The threshold is:  0.016470717001736357\n"
     ]
    },
    {
     "data": {
      "image/png": "[encoded data removed]",
      "text/plain": [
       "<Figure size 432x288 with 1 Axes>"
      ]
     },
     "metadata": {
      "needs_background": "light"
     },
     "output_type": "display_data"
    }
   ],
   "source": [
    "# predictions = autoencoder_new.predict(x_test)\n",
    "# prediction_loss = keras.losses.mae(predictions, x_test)\n",
    "# threshold = np.percentile(prediction_loss, percetage)\n",
    "# print('The threshold is: ', threshold)\n",
    "# sns.histplot(prediction_loss, bins=30, alpha=0.8)\n",
    "# plt.axvline(x=threshold, color='red', label='threshold')\n",
    "# plt.ylabel('Quantity')\n",
    "# plt.xlabel('Mean Absolute Error')\n",
    "# plt.legend()\n",
    "# plt.show()"
   ]
  },
  {
   "cell_type": "code",
   "execution_count": 18,
   "id": "animated-recycling",
   "metadata": {},
   "outputs": [
    {
     "name": "stdout",
     "output_type": "stream",
     "text": [
      "Prediction Report\n",
      "               precision    recall  f1-score   support\n",
      "\n",
      "           0       1.00      1.00      1.00   2000453\n",
      "           1       0.01      0.01      0.01      8461\n",
      "\n",
      "    accuracy                           0.99   2008914\n",
      "   macro avg       0.50      0.50      0.50   2008914\n",
      "weighted avg       0.99      0.99      0.99   2008914\n",
      "\n"
     ]
    },
    {
     "data": {
      "image/png": "[encoded data removed]",
      "text/plain": [
       "<Figure size 360x360 with 2 Axes>"
      ]
     },
     "metadata": {
      "needs_background": "light"
     },
     "output_type": "display_data"
    }
   ],
   "source": [
    "# prediction_label = [0 if x > threshold else 1 for x in prediction_loss]\n",
    "# print(\"Prediction Report\\n\", classification_report(y_test, prediction_label))\n",
    "# cm = confusion_matrix(y_test, prediction_label)\n",
    "# plt.figure(figsize=(5,5))\n",
    "# sns.heatmap(data=cm, linewidths=.5, annot=True, square = True, cmap = 'Blues', fmt='d')\n",
    "# plt.ylabel('Actual label')\n",
    "# plt.xlabel('Predicted label')\n",
    "# plt.tight_layout()\n",
    "# plt.show()"
   ]
  },
  {
   "cell_type": "code",
   "execution_count": 16,
   "id": "communist-equation",
   "metadata": {},
   "outputs": [],
   "source": [
    "# # with validation set\n",
    "\n",
    "# df_train = df_no_loss_shuffled.iloc[0:int(df_no_loss_shuffled.shape[0] * 0.5)]\n",
    "# df_train_shuffled = df_train.sample(frac=1).reset_index()\n",
    "# df_train_shuffled.drop(['index'], axis=1, inplace=True)\n",
    "\n",
    "# df_validation = pd.concat([\n",
    "#     df_loss_shuffled[0:int(df_loss_shuffled.shape[0] * 0.2)], \n",
    "#     df_no_loss_shuffled.iloc[int(df_no_loss_shuffled.shape[0] * 0.5)+1: int(df_no_loss_shuffled.shape[0] * 0.7)]\n",
    "# ])\n",
    "# df_validation_shuffled = df_validation.sample(frac=1).reset_index()\n",
    "# df_validation_shuffled.drop(['index'], axis=1, inplace=True)\n",
    "\n",
    "# df_test = pd.concat([df_loss_shuffled[int(df_loss_shuffled.shape[0] * 0.2)+1: -1], df_no_loss_shuffled.iloc[int(df_no_loss_shuffled.shape[0] * 0.7)+1: -1]])\n",
    "# df_test_shuffled = df_test.sample(frac=1).reset_index()\n",
    "# df_test_shuffled.drop(['index'], axis=1, inplace=True)"
   ]
  },
  {
   "cell_type": "code",
   "execution_count": 17,
   "id": "alive-stand",
   "metadata": {},
   "outputs": [],
   "source": [
    "# # refer to shrink features for now\n",
    "\n",
    "# x_train = df_train_shuffled[shrink_feature_list]\n",
    "# x_validation = df_validation_shuffled[shrink_feature_list]\n",
    "# x_test = df_test_shuffled[shrink_feature_list]\n",
    "# y_train = df_train_shuffled[['lossOrNot']]\n",
    "# y_train = y_train.astype(int)\n",
    "# y_validation = df_validation_shuffled[['lossOrNot']]\n",
    "# y_validation = y_validation.astype(int)\n",
    "# y_test = df_test_shuffled[['lossOrNot']]\n",
    "# y_test = y_test.astype(int)\n",
    "\n",
    "# # x_train = df_train_shuffled[full_features_list]\n",
    "# # x_validation = df_validation_shuffled[full_features_list]\n",
    "# # x_test = df_test_shuffled[full_features_list]\n",
    "# # y_train = df_train_shuffled[['lossOrNot']]\n",
    "# # y_train = y_train.astype(int)\n",
    "# # y_validation = df_validation_shuffled[['lossOrNot']]\n",
    "# # y_validation = y_validation.astype(int)\n",
    "# # y_test = df_test_shuffled[['lossOrNot']]\n",
    "# # y_test = y_test.astype(int)"
   ]
  },
  {
   "cell_type": "code",
   "execution_count": 20,
   "id": "generic-conditions",
   "metadata": {
    "collapsed": true,
    "jupyter": {
     "outputs_hidden": true
    }
   },
   "outputs": [
    {
     "name": "stdout",
     "output_type": "stream",
     "text": [
      "Epoch 1/10\n",
      "15629/15629 [==============================] - 206s 13ms/step - loss: 0.0804 - val_loss: 0.0746\n",
      "Epoch 2/10\n",
      "15629/15629 [==============================] - 181s 12ms/step - loss: 0.0737 - val_loss: 0.0731\n",
      "Epoch 3/10\n",
      "15629/15629 [==============================] - 182s 12ms/step - loss: 0.0728 - val_loss: 0.0725\n",
      "Epoch 4/10\n",
      "15629/15629 [==============================] - 237s 15ms/step - loss: 0.0722 - val_loss: 0.0718\n",
      "Epoch 5/10\n",
      "15629/15629 [==============================] - 322s 21ms/step - loss: 0.0717 - val_loss: 0.0715\n",
      "Epoch 6/10\n",
      "15629/15629 [==============================] - 318s 20ms/step - loss: 0.0714 - val_loss: 0.0712\n",
      "Epoch 7/10\n",
      "15629/15629 [==============================] - 277s 18ms/step - loss: 0.0711 - val_loss: 0.0713\n",
      "Epoch 8/10\n",
      "15629/15629 [==============================] - 200s 13ms/step - loss: 0.0709 - val_loss: 0.0711\n",
      "Epoch 9/10\n",
      "15629/15629 [==============================] - 201s 13ms/step - loss: 0.0708 - val_loss: 0.0708\n",
      "Epoch 10/10\n",
      "15629/15629 [==============================] - 236s 15ms/step - loss: 0.0706 - val_loss: 0.0705\n"
     ]
    },
    {
     "data": {
      "text/plain": [
       "<tensorflow.python.keras.callbacks.History at 0x7fa0886f1950>"
      ]
     },
     "execution_count": 20,
     "metadata": {},
     "output_type": "execute_result"
    }
   ],
   "source": [
    "# # use training and validation set during training phase\n",
    "# # use validation set to determine the threshold\n",
    "# # use test set to check the performance based on the chosen threshold\n",
    "\n",
    "# autoencoder.fit(\n",
    "#     x_train, x_train,\n",
    "#     epochs = 10,\n",
    "#     batch_size = 64,\n",
    "#     validation_data = (x_validation, x_validation)\n",
    "# )"
   ]
  },
  {
   "cell_type": "code",
   "execution_count": 23,
   "id": "pursuant-northeast",
   "metadata": {},
   "outputs": [
    {
     "data": {
      "text/plain": [
       "1.3903300462621786"
      ]
     },
     "execution_count": 23,
     "metadata": {},
     "output_type": "execute_result"
    }
   ],
   "source": [
    "# percetage = len(y_validation[y_validation['lossOrNot'] > 0]) / len(y_validation) * 100\n",
    "# percetage"
   ]
  },
  {
   "cell_type": "code",
   "execution_count": 24,
   "id": "alpha-france",
   "metadata": {
    "collapsed": true,
    "jupyter": {
     "outputs_hidden": true
    }
   },
   "outputs": [
    {
     "name": "stdout",
     "output_type": "stream",
     "text": [
      "The threshold is:  0.176275334581807\n"
     ]
    },
    {
     "data": {
      "image/png": "[encoded data removed]",
      "text/plain": [
       "<Figure size 432x288 with 1 Axes>"
      ]
     },
     "metadata": {
      "needs_background": "light"
     },
     "output_type": "display_data"
    }
   ],
   "source": [
    "# predictions = autoencoder.predict(x_validation)\n",
    "# prediction_loss = keras.losses.mae(predictions, x_validation)\n",
    "# threshold = np.percentile(prediction_loss, 100-percetage)\n",
    "# print('The threshold is: ', threshold)\n",
    "# sns.histplot(prediction_loss, bins=30, alpha=0.8)\n",
    "# plt.axvline(x=threshold, color='red', label='threshold')\n",
    "# plt.ylabel('Quantity')\n",
    "# plt.xlabel('Mean Absolute Error')\n",
    "# plt.legend()\n",
    "# plt.show()"
   ]
  },
  {
   "cell_type": "code",
   "execution_count": 25,
   "id": "located-mediterranean",
   "metadata": {
    "collapsed": true,
    "jupyter": {
     "outputs_hidden": true
    }
   },
   "outputs": [
    {
     "name": "stdout",
     "output_type": "stream",
     "text": [
      "Prediction Report\n",
      "               precision    recall  f1-score   support\n",
      "\n",
      "           0       0.99      0.99      0.99    400090\n",
      "           1       0.01      0.01      0.01      5641\n",
      "\n",
      "    accuracy                           0.97    405731\n",
      "   macro avg       0.50      0.50      0.50    405731\n",
      "weighted avg       0.97      0.97      0.97    405731\n",
      "\n"
     ]
    },
    {
     "data": {
      "image/png": "[encoded data removed]",
      "text/plain": [
       "<Figure size 360x360 with 2 Axes>"
      ]
     },
     "metadata": {
      "needs_background": "light"
     },
     "output_type": "display_data"
    }
   ],
   "source": [
    "# prediction_label = [0 if x < threshold else 1 for x in prediction_loss]\n",
    "# print(\"Prediction Report\\n\", classification_report(y_validation, prediction_label))\n",
    "# cm = confusion_matrix(y_validation, prediction_label)\n",
    "# plt.figure(figsize=(5,5))\n",
    "# sns.heatmap(data=cm, linewidths=.5, annot=True, square = True, cmap = 'Blues', fmt='d')\n",
    "# plt.ylabel('Actual label')\n",
    "# plt.xlabel('Predicted label')\n",
    "# plt.tight_layout()\n",
    "# plt.show()"
   ]
  },
  {
   "cell_type": "code",
   "execution_count": 26,
   "id": "aggregate-cornwall",
   "metadata": {
    "collapsed": true,
    "jupyter": {
     "outputs_hidden": true
    }
   },
   "outputs": [
    {
     "name": "stdout",
     "output_type": "stream",
     "text": [
      "Prediction Report\n",
      "               precision    recall  f1-score   support\n",
      "\n",
      "           0       0.96      0.99      0.97    600134\n",
      "           1       0.04      0.01      0.02     22564\n",
      "\n",
      "    accuracy                           0.95    622698\n",
      "   macro avg       0.50      0.50      0.50    622698\n",
      "weighted avg       0.93      0.95      0.94    622698\n",
      "\n"
     ]
    },
    {
     "data": {
      "image/png": "[encoded data removed]",
      "text/plain": [
       "<Figure size 360x360 with 2 Axes>"
      ]
     },
     "metadata": {
      "needs_background": "light"
     },
     "output_type": "display_data"
    }
   ],
   "source": [
    "# predictions_test = autoencoder.predict(x_test)\n",
    "# prediction_loss_test = keras.losses.mae(predictions_test, x_test)\n",
    "\n",
    "# prediction_label_test = [0 if x < threshold else 1 for x in prediction_loss_test]\n",
    "# print(\"Prediction Report\\n\", classification_report(y_test, prediction_label_test))\n",
    "# cm = confusion_matrix(y_test, prediction_label_test)\n",
    "# plt.figure(figsize=(5,5))\n",
    "# sns.heatmap(data=cm, linewidths=.5, annot=True, square = True, cmap = 'Blues', fmt='d')\n",
    "# plt.ylabel('Actual label')\n",
    "# plt.xlabel('Predicted label')\n",
    "# plt.tight_layout()\n",
    "# plt.show()"
   ]
  },
  {
   "cell_type": "markdown",
   "id": "perceived-asset",
   "metadata": {},
   "source": [
    "## Autoencoder with LSTM or RNN"
   ]
  },
  {
   "cell_type": "code",
   "execution_count": 15,
   "id": "introductory-lobby",
   "metadata": {},
   "outputs": [],
   "source": [
    "x_train_expand_ = np.expand_dims(x_train, axis = -1)\n",
    "x_test_expand_ = np.expand_dims(x_test, axis = -1)\\\n",
    "\n",
    "x_train_h_dim = []\n",
    "for i in range(0, x_train_expand_.shape[0]):\n",
    "    datum = np.reshape(x_train_expand_[i], (7, 11))\n",
    "    x_train_h_dim.append(datum)\n",
    "x_train_h_dim = np.array(x_train_h_dim)\n",
    "\n",
    "x_test_h_dim = []\n",
    "for i in range(0, x_test_expand_.shape[0]):\n",
    "    datum = np.reshape(x_test_expand_[i], (7, 11))\n",
    "    x_test_h_dim.append(datum)\n",
    "x_test_h_dim = np.array(x_test_h_dim)"
   ]
  },
  {
   "cell_type": "code",
   "execution_count": 40,
   "id": "threaded-relation",
   "metadata": {},
   "outputs": [],
   "source": [
    "# lstm\n",
    "# define the model\n",
    "\n",
    "my_autoencoder_lstm_model = keras.Sequential()\n",
    "my_autoencoder_lstm_model.add(keras.layers.LSTM(48, input_shape=(7, 11), activation='relu', return_sequences=False))\n",
    "my_autoencoder_lstm_model.add(keras.layers.Dropout(rate=0.2))\n",
    "# my_autoencoder_lstm_model.add(keras.layers.LSTM(24, activation='relu', return_sequences=False))\n",
    "my_autoencoder_lstm_model.add(keras.layers.RepeatVector(7))\n",
    "# my_autoencoder_lstm_model.add(keras.layers.LSTM(24, activation='relu', return_sequences=True))\n",
    "my_autoencoder_lstm_model.add(keras.layers.LSTM(48, activation='relu', return_sequences=True))\n",
    "my_autoencoder_lstm_model.add(keras.layers.Dropout(rate=0.2))\n",
    "my_autoencoder_lstm_model.add(keras.layers.TimeDistributed(keras.layers.Dense(11)))\n",
    "\n",
    "my_autoencoder_lstm_model.compile(\n",
    "    optimizer=tf.keras.optimizers.Adam(0.001), \n",
    "    loss=keras.losses.MeanAbsoluteError()\n",
    ")"
   ]
  },
  {
   "cell_type": "code",
   "execution_count": 41,
   "id": "common-strand",
   "metadata": {},
   "outputs": [
    {
     "name": "stdout",
     "output_type": "stream",
     "text": [
      "Epoch 1/3\n",
      "21880/21880 [==============================] - 2948s 135ms/step - loss: 0.0836 - val_loss: 0.0602\n",
      "Epoch 2/3\n",
      "21880/21880 [==============================] - 2585s 118ms/step - loss: 0.0737 - val_loss: 0.0598\n",
      "Epoch 3/3\n",
      "21880/21880 [==============================] - 2452s 112ms/step - loss: 0.0717 - val_loss: 0.0581\n"
     ]
    },
    {
     "data": {
      "text/plain": [
       "<tensorflow.python.keras.callbacks.History at 0x7fa0cbbd3650>"
      ]
     },
     "execution_count": 41,
     "metadata": {},
     "output_type": "execute_result"
    }
   ],
   "source": [
    "my_autoencoder_lstm_model.fit(\n",
    "    x_train_h_dim, x_train_h_dim,\n",
    "    epochs = 3,\n",
    "    batch_size = 64,\n",
    "    validation_data = (x_test_h_dim, x_test_h_dim)\n",
    ")"
   ]
  },
  {
   "cell_type": "code",
   "execution_count": 43,
   "id": "editorial-hepatitis",
   "metadata": {},
   "outputs": [
    {
     "name": "stdout",
     "output_type": "stream",
     "text": [
      "The threshold is:  0.11687147061545294\n"
     ]
    },
    {
     "data": {
      "image/png": "[encoded data removed]",
      "text/plain": [
       "<Figure size 432x288 with 1 Axes>"
      ]
     },
     "metadata": {
      "needs_background": "light"
     },
     "output_type": "display_data"
    }
   ],
   "source": [
    "predictions = my_autoencoder_lstm_model.predict(x_test_h_dim)\n",
    "prediction_loss = keras.losses.mae(np.reshape(predictions, (-1, 77)), np.reshape(x_test_h_dim, (-1, 77)))\n",
    "threshold = np.percentile(prediction_loss, 100-percetage)\n",
    "print('The threshold is: ', threshold)\n",
    "sns.histplot(prediction_loss, bins=30, alpha=0.8)\n",
    "plt.axvline(x=threshold, color='red', label='threshold')\n",
    "plt.ylabel('Quantity')\n",
    "plt.xlabel('Mean Absolute Error')\n",
    "plt.legend()\n",
    "plt.show()"
   ]
  },
  {
   "cell_type": "code",
   "execution_count": 57,
   "id": "incoming-overall",
   "metadata": {},
   "outputs": [
    {
     "name": "stdout",
     "output_type": "stream",
     "text": [
      "Prediction Report\n",
      "               precision    recall  f1-score   support\n",
      "\n",
      "           0       0.96      0.96      0.96    600134\n",
      "           1       0.05      0.05      0.05     28207\n",
      "\n",
      "    accuracy                           0.91    628341\n",
      "   macro avg       0.50      0.50      0.50    628341\n",
      "weighted avg       0.91      0.91      0.91    628341\n",
      "\n"
     ]
    },
    {
     "data": {
      "image/png": "[encoded data removed]",
      "text/plain": [
       "<Figure size 360x360 with 2 Axes>"
      ]
     },
     "metadata": {
      "needs_background": "light"
     },
     "output_type": "display_data"
    }
   ],
   "source": [
    "prediction_label = [0 if x < threshold else 1 for x in prediction_loss]\n",
    "print(\"Prediction Report\\n\", classification_report(y_test, prediction_label))\n",
    "cm = confusion_matrix(y_test, prediction_label)\n",
    "plt.figure(figsize=(5,5))\n",
    "sns.heatmap(data=cm, linewidths=.5, annot=True, square = True, cmap = 'Blues', fmt='d')\n",
    "plt.ylabel('Actual label')\n",
    "plt.xlabel('Predicted label')\n",
    "plt.tight_layout()\n",
    "plt.show()"
   ]
  },
  {
   "cell_type": "code",
   "execution_count": 16,
   "id": "superb-yahoo",
   "metadata": {},
   "outputs": [],
   "source": [
    "# rnn\n",
    "\n",
    "my_autoencoder_rnn_model = keras.Sequential()\n",
    "my_autoencoder_rnn_model.add(keras.layers.SimpleRNN(48, input_shape=(7, 11), return_sequences=False))\n",
    "my_autoencoder_rnn_model.add(keras.layers.RepeatVector(7))\n",
    "my_autoencoder_rnn_model.add(keras.layers.SimpleRNN(48, return_sequences=True))\n",
    "my_autoencoder_rnn_model.add(keras.layers.TimeDistributed(keras.layers.Dense(11)))\n",
    "\n",
    "my_autoencoder_rnn_model.compile(\n",
    "    optimizer=tf.keras.optimizers.Adam(0.001), \n",
    "    loss=keras.losses.MeanAbsoluteError()\n",
    ")"
   ]
  },
  {
   "cell_type": "code",
   "execution_count": 20,
   "id": "literary-protein",
   "metadata": {},
   "outputs": [],
   "source": [
    "callback = keras.callbacks.EarlyStopping(monitor='loss', patience=3)"
   ]
  },
  {
   "cell_type": "code",
   "execution_count": 21,
   "id": "brief-honolulu",
   "metadata": {},
   "outputs": [
    {
     "name": "stdout",
     "output_type": "stream",
     "text": [
      "Epoch 1/10\n",
      "21880/21880 [==============================] - 740s 34ms/step - loss: 0.0241 - val_loss: 0.0241\n",
      "Epoch 2/10\n",
      "21880/21880 [==============================] - 800s 37ms/step - loss: 0.0239 - val_loss: 0.0243\n",
      "Epoch 3/10\n",
      "21880/21880 [==============================] - 903s 41ms/step - loss: 0.0235 - val_loss: 0.0229\n",
      "Epoch 4/10\n",
      "21880/21880 [==============================] - 913s 42ms/step - loss: 0.0231 - val_loss: 0.0240\n",
      "Epoch 5/10\n",
      "21880/21880 [==============================] - 880s 40ms/step - loss: 0.0228 - val_loss: 0.0226\n",
      "Epoch 6/10\n",
      "21880/21880 [==============================] - 890s 41ms/step - loss: 0.0227 - val_loss: 0.0225\n",
      "Epoch 7/10\n",
      "21880/21880 [==============================] - 912s 42ms/step - loss: 0.0226 - val_loss: 0.0219\n",
      "Epoch 8/10\n",
      "21880/21880 [==============================] - 899s 41ms/step - loss: 0.0224 - val_loss: 0.0229\n",
      "Epoch 9/10\n",
      "21880/21880 [==============================] - 895s 41ms/step - loss: 0.0224 - val_loss: 0.0229\n",
      "Epoch 10/10\n",
      "21880/21880 [==============================] - 871s 40ms/step - loss: 0.0223 - val_loss: 0.0221\n"
     ]
    },
    {
     "data": {
      "text/plain": [
       "<tensorflow.python.keras.callbacks.History at 0x7f498814a6d0>"
      ]
     },
     "execution_count": 21,
     "metadata": {},
     "output_type": "execute_result"
    }
   ],
   "source": [
    "my_autoencoder_rnn_model.fit(\n",
    "    x_train_h_dim, x_train_h_dim,\n",
    "    epochs = 10,\n",
    "    batch_size = 64,\n",
    "    callbacks = [callback],\n",
    "    validation_data = (x_test_h_dim, x_test_h_dim)\n",
    ") # 20 epochs in total"
   ]
  },
  {
   "cell_type": "code",
   "execution_count": 22,
   "id": "collect-chinese",
   "metadata": {},
   "outputs": [
    {
     "name": "stdout",
     "output_type": "stream",
     "text": [
      "The threshold is:  0.0493077588026159\n"
     ]
    },
    {
     "data": {
      "image/png": "[encoded data removed]",
      "text/plain": [
       "<Figure size 432x288 with 1 Axes>"
      ]
     },
     "metadata": {
      "needs_background": "light"
     },
     "output_type": "display_data"
    }
   ],
   "source": [
    "predictions = my_autoencoder_rnn_model.predict(x_test_h_dim)\n",
    "prediction_loss = keras.losses.mae(np.reshape(predictions, (-1, 77)), np.reshape(x_test_h_dim, (-1, 77)))\n",
    "threshold = np.percentile(prediction_loss, 100-percetage)\n",
    "print('The threshold is: ', threshold)\n",
    "sns.histplot(prediction_loss, bins=30, alpha=0.8)\n",
    "plt.axvline(x=threshold, color='red', label='threshold')\n",
    "plt.ylabel('Quantity')\n",
    "plt.xlabel('Mean Absolute Error')\n",
    "plt.legend()\n",
    "plt.show()"
   ]
  },
  {
   "cell_type": "code",
   "execution_count": 28,
   "id": "neutral-blind",
   "metadata": {},
   "outputs": [
    {
     "name": "stdout",
     "output_type": "stream",
     "text": [
      "Prediction Report\n",
      "               precision    recall  f1-score   support\n",
      "\n",
      "           0       0.96      0.96      0.96    600134\n",
      "           1       0.06      0.06      0.06     28207\n",
      "\n",
      "    accuracy                           0.92    628341\n",
      "   macro avg       0.51      0.51      0.51    628341\n",
      "weighted avg       0.92      0.92      0.92    628341\n",
      "\n"
     ]
    },
    {
     "data": {
      "image/png": "[encoded data removed]",
      "text/plain": [
       "<Figure size 360x360 with 2 Axes>"
      ]
     },
     "metadata": {
      "needs_background": "light"
     },
     "output_type": "display_data"
    }
   ],
   "source": [
    "prediction_label = [0 if x < threshold else 1 for x in prediction_loss]\n",
    "print(\"Prediction Report\\n\", classification_report(y_test, prediction_label))\n",
    "cm = confusion_matrix(y_test, prediction_label)\n",
    "plt.figure(figsize=(5,5))\n",
    "sns.heatmap(data=cm, linewidths=.5, annot=True, square = True, cmap = 'Blues', fmt='d')\n",
    "plt.ylabel('Actual label')\n",
    "plt.xlabel('Predicted label')\n",
    "plt.tight_layout()\n",
    "plt.show()"
   ]
  },
  {
   "cell_type": "code",
   "execution_count": 14,
   "id": "packed-superintendent",
   "metadata": {},
   "outputs": [],
   "source": [
    "# # refer to shrink features for now\n",
    "\n",
    "# x_train = df_train_shuffled[shrink_feature_list]\n",
    "# x_validation = df_validation_shuffled[shrink_feature_list]\n",
    "# x_test = df_test_shuffled[shrink_feature_list]\n",
    "# y_train = df_train_shuffled[['lossOrNot']]\n",
    "# y_train = y_train.astype(int)\n",
    "# y_validation = df_validation_shuffled[['lossOrNot']]\n",
    "# y_validation = y_validation.astype(int)\n",
    "# y_test = df_test_shuffled[['lossOrNot']]\n",
    "# y_test = y_test.astype(int)"
   ]
  },
  {
   "cell_type": "code",
   "execution_count": 15,
   "id": "joint-worthy",
   "metadata": {},
   "outputs": [],
   "source": [
    "# # reshape input data\n",
    "\n",
    "# x_train_expand_ = np.expand_dims(x_train, axis = -1)\n",
    "# x_val_expand_ = np.expand_dims(x_validation, axis = -1)\n",
    "# x_test_expand_ = np.expand_dims(x_test, axis = -1)"
   ]
  },
  {
   "cell_type": "code",
   "execution_count": 17,
   "id": "falling-bangladesh",
   "metadata": {},
   "outputs": [],
   "source": [
    "# x_train_h_dim = []\n",
    "# for i in range(0, x_train_expand_.shape[0]):\n",
    "#     datum = np.reshape(x_train_expand_[i], (7, 11))\n",
    "#     x_train_h_dim.append(datum)\n",
    "# x_train_h_dim = np.array(x_train_h_dim)\n",
    "\n",
    "# x_val_h_dim = []\n",
    "# for i in range(0, x_val_expand_.shape[0]):\n",
    "#     datum = np.reshape(x_val_expand_[i], (7, 11))\n",
    "#     x_val_h_dim.append(datum)\n",
    "# x_val_h_dim = np.array(x_val_h_dim)\n",
    "\n",
    "# x_test_h_dim = []\n",
    "# for i in range(0, x_test_expand_.shape[0]):\n",
    "#     datum = np.reshape(x_test_expand_[i], (7, 11))\n",
    "#     x_test_h_dim.append(datum)\n",
    "# x_test_h_dim = np.array(x_test_h_dim)"
   ]
  },
  {
   "cell_type": "code",
   "execution_count": 27,
   "id": "confirmed-collectible",
   "metadata": {},
   "outputs": [],
   "source": [
    "# # define the model\n",
    "\n",
    "# my_autoencoder_lstm_model = keras.Sequential()\n",
    "# my_autoencoder_lstm_model.add(keras.layers.LSTM(48, input_shape=(7, 11), activation='relu', return_sequences=False))\n",
    "# my_autoencoder_lstm_model.add(keras.layers.Dropout(rate=0.2))\n",
    "# # my_autoencoder_lstm_model.add(keras.layers.LSTM(24, activation='relu', return_sequences=False))\n",
    "# my_autoencoder_lstm_model.add(keras.layers.RepeatVector(7))\n",
    "# # my_autoencoder_lstm_model.add(keras.layers.LSTM(24, activation='relu', return_sequences=True))\n",
    "# my_autoencoder_lstm_model.add(keras.layers.LSTM(48, activation='relu', return_sequences=True))\n",
    "# my_autoencoder_lstm_model.add(keras.layers.Dropout(rate=0.2))\n",
    "# my_autoencoder_lstm_model.add(keras.layers.TimeDistributed(keras.layers.Dense(11)))\n",
    "\n",
    "# my_autoencoder_lstm_model.compile(\n",
    "#     optimizer=tf.keras.optimizers.Adam(0.001), \n",
    "#     loss=keras.losses.MeanAbsoluteError()\n",
    "# )"
   ]
  },
  {
   "cell_type": "code",
   "execution_count": 30,
   "id": "refined-landscape",
   "metadata": {
    "collapsed": true,
    "jupyter": {
     "outputs_hidden": true
    }
   },
   "outputs": [
    {
     "name": "stdout",
     "output_type": "stream",
     "text": [
      "Epoch 1/3\n",
      "15629/15629 [==============================] - 2946s 188ms/step - loss: 0.0808 - val_loss: 0.0602\n",
      "Epoch 2/3\n",
      "15629/15629 [==============================] - 2885s 185ms/step - loss: 0.0739 - val_loss: 0.0594\n",
      "Epoch 3/3\n",
      "15629/15629 [==============================] - 3150s 202ms/step - loss: 0.0720 - val_loss: 0.0588\n"
     ]
    },
    {
     "data": {
      "text/plain": [
       "<tensorflow.python.keras.callbacks.History at 0x7fd1b8438690>"
      ]
     },
     "execution_count": 30,
     "metadata": {},
     "output_type": "execute_result"
    }
   ],
   "source": [
    "# my_autoencoder_lstm_model.fit(\n",
    "#     x_train_h_dim, x_train_h_dim,\n",
    "#     epochs = 3,\n",
    "#     batch_size = 64,\n",
    "#     validation_data = (x_val_h_dim, x_val_h_dim)\n",
    "# )"
   ]
  },
  {
   "cell_type": "code",
   "execution_count": 42,
   "id": "formed-synthesis",
   "metadata": {
    "collapsed": true,
    "jupyter": {
     "outputs_hidden": true
    }
   },
   "outputs": [
    {
     "name": "stdout",
     "output_type": "stream",
     "text": [
      "The threshold is:  0.15055096602807427\n"
     ]
    },
    {
     "data": {
      "image/png": "[encoded data removed]",
      "text/plain": [
       "<Figure size 432x288 with 1 Axes>"
      ]
     },
     "metadata": {
      "needs_background": "light"
     },
     "output_type": "display_data"
    }
   ],
   "source": [
    "# predictions = my_autoencoder_lstm_model.predict(x_val_h_dim)\n",
    "# prediction_loss = keras.losses.mae(np.reshape(predictions, (-1, 77)), np.reshape(x_val_h_dim, (-1, 77)))\n",
    "# threshold = np.percentile(prediction_loss, 100-1.4)\n",
    "# print('The threshold is: ', threshold)\n",
    "# sns.histplot(prediction_loss, bins=30, alpha=0.8)\n",
    "# plt.axvline(x=threshold, color='red', label='threshold')\n",
    "# plt.ylabel('Quantity')\n",
    "# plt.xlabel('Mean Absolute Error')\n",
    "# plt.legend()\n",
    "# plt.show()"
   ]
  },
  {
   "cell_type": "code",
   "execution_count": 43,
   "id": "broken-diagnosis",
   "metadata": {
    "collapsed": true,
    "jupyter": {
     "outputs_hidden": true
    }
   },
   "outputs": [
    {
     "name": "stdout",
     "output_type": "stream",
     "text": [
      "Prediction Report\n",
      "               precision    recall  f1-score   support\n",
      "\n",
      "           0       0.99      0.99      0.99    400090\n",
      "           1       0.02      0.02      0.02      5641\n",
      "\n",
      "    accuracy                           0.97    405731\n",
      "   macro avg       0.50      0.50      0.50    405731\n",
      "weighted avg       0.97      0.97      0.97    405731\n",
      "\n"
     ]
    },
    {
     "data": {
      "image/png": "[encoded data removed]",
      "text/plain": [
       "<Figure size 360x360 with 2 Axes>"
      ]
     },
     "metadata": {
      "needs_background": "light"
     },
     "output_type": "display_data"
    }
   ],
   "source": [
    "# prediction_label = [0 if x < threshold else 1 for x in prediction_loss]\n",
    "# print(\"Prediction Report\\n\", classification_report(y_validation, prediction_label))\n",
    "# cm = confusion_matrix(y_validation, prediction_label)\n",
    "# plt.figure(figsize=(5,5))\n",
    "# sns.heatmap(data=cm, linewidths=.5, annot=True, square = True, cmap = 'Blues', fmt='d')\n",
    "# plt.ylabel('Actual label')\n",
    "# plt.xlabel('Predicted label')\n",
    "# plt.tight_layout()\n",
    "# plt.show()"
   ]
  },
  {
   "cell_type": "code",
   "execution_count": 44,
   "id": "copyrighted-fellowship",
   "metadata": {
    "collapsed": true,
    "jupyter": {
     "outputs_hidden": true
    }
   },
   "outputs": [
    {
     "name": "stdout",
     "output_type": "stream",
     "text": [
      "Prediction Report\n",
      "               precision    recall  f1-score   support\n",
      "\n",
      "           0       0.96      0.99      0.97    600134\n",
      "           1       0.03      0.01      0.02     22564\n",
      "\n",
      "    accuracy                           0.95    622698\n",
      "   macro avg       0.50      0.50      0.50    622698\n",
      "weighted avg       0.93      0.95      0.94    622698\n",
      "\n"
     ]
    },
    {
     "data": {
      "image/png": "[encoded data removed]",
      "text/plain": [
       "<Figure size 360x360 with 2 Axes>"
      ]
     },
     "metadata": {
      "needs_background": "light"
     },
     "output_type": "display_data"
    }
   ],
   "source": [
    "# predictions_test = my_autoencoder_lstm_model.predict(x_test_h_dim)\n",
    "# prediction_loss_test = keras.losses.mae(np.reshape(predictions_test, (-1, 77)), np.reshape(x_test_h_dim, (-1, 77)))\n",
    "\n",
    "# prediction_label_test = [0 if x < threshold else 1 for x in prediction_loss_test]\n",
    "# print(\"Prediction Report\\n\", classification_report(y_test, prediction_label_test))\n",
    "# cm = confusion_matrix(y_test, prediction_label_test)\n",
    "# plt.figure(figsize=(5,5))\n",
    "# sns.heatmap(data=cm, linewidths=.5, annot=True, square = True, cmap = 'Blues', fmt='d')\n",
    "# plt.ylabel('Actual label')\n",
    "# plt.xlabel('Predicted label')\n",
    "# plt.tight_layout()\n",
    "# plt.show()"
   ]
  }
 ],
 "metadata": {
  "kernelspec": {
   "display_name": "Python 3",
   "language": "python",
   "name": "python3"
  },
  "language_info": {
   "codemirror_mode": {
    "name": "ipython",
    "version": 3
   },
   "file_extension": ".py",
   "mimetype": "text/x-python",
   "name": "python",
   "nbconvert_exporter": "python",
   "pygments_lexer": "ipython3",
   "version": "3.7.9"
  }
 },
 "nbformat": 4,
 "nbformat_minor": 5
}
